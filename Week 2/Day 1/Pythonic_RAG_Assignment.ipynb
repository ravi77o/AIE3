{
  "cells": [
    {
      "cell_type": "markdown",
      "metadata": {
        "id": "lElF3o5PR6ys"
      },
      "source": [
        "# Your First RAG Application\n",
        "\n",
        "In this notebook, we'll walk you through each of the components that are involved in a simple RAG application.\n",
        "\n",
        "We won't be leveraging any fancy tools, just the OpenAI Python SDK, Numpy, and some classic Python.\n",
        "\n",
        "> NOTE: This was done with Python 3.11.4.\n",
        "\n",
        "> NOTE: There might be [compatibility issues](https://github.com/wandb/wandb/issues/7683) if you're on NVIDIA driver >552.44 As an interim solution - you can rollback your drivers to the 552.44."
      ]
    },
    {
      "cell_type": "markdown",
      "metadata": {
        "id": "5CtcL8P8R6yt"
      },
      "source": [
        "## Table of Contents:\n",
        "\n",
        "- Task 1: Imports and Utilities\n",
        "- Task 2: Documents\n",
        "- Task 3: Embeddings and Vectors\n",
        "- Task 4: Prompts\n",
        "- Task 5: Retrieval Augmented Generation\n",
        "  - 🚧 Activity #1: Augment RAG\n",
        "- Task 6: Visibility Tooling\n",
        "- Task 7: RAG Evaluation Using GPT-4"
      ]
    },
    {
      "cell_type": "markdown",
      "metadata": {
        "id": "1Dz6GYilR6yt"
      },
      "source": [
        "Let's look at a rather complicated looking visual representation of a basic RAG application.\n",
        "\n",
        "<img src=\"https://i.imgur.com/PvlaIUO.png\" />"
      ]
    },
    {
      "cell_type": "markdown",
      "metadata": {
        "id": "PjmC0KFtR6yt"
      },
      "source": [
        "## Task 1: Imports and Utility\n",
        "\n",
        "We're just doing some imports and enabling `async` to work within the Jupyter environment here, nothing too crazy!"
      ]
    },
    {
      "cell_type": "code",
      "execution_count": 1,
      "metadata": {
        "colab": {
          "base_uri": "https://localhost:8080/"
        },
        "id": "H7VEzqziR6yt",
        "outputId": "f873dd3b-55a0-4e00-ecf4-e2a0fe3af327"
      },
      "outputs": [],
      "source": [
        "!pip install -qU numpy matplotlib plotly pandas scipy scikit-learn openai python-dotenv"
      ]
    },
    {
      "cell_type": "code",
      "execution_count": 2,
      "metadata": {
        "id": "Z1dyrG4hR6yt"
      },
      "outputs": [],
      "source": [
        "from aimakerspace.text_utils import TextFileLoader, CharacterTextSplitter\n",
        "from aimakerspace.vectordatabase import VectorDatabase\n",
        "import asyncio"
      ]
    },
    {
      "cell_type": "code",
      "execution_count": 3,
      "metadata": {
        "id": "9OrFZRnER6yt"
      },
      "outputs": [],
      "source": [
        "import nest_asyncio\n",
        "nest_asyncio.apply()"
      ]
    },
    {
      "cell_type": "markdown",
      "metadata": {
        "id": "M0jGnpQsR6yu"
      },
      "source": [
        "## Task 2: Documents\n",
        "\n",
        "We'll be concerning ourselves with this part of the flow in the following section:\n",
        "\n",
        "<img src=\"https://i.imgur.com/jTm9gjk.png\" />"
      ]
    },
    {
      "cell_type": "markdown",
      "metadata": {
        "id": "-SFPWvRUR6yu"
      },
      "source": [
        "### Loading Source Documents\n",
        "\n",
        "So, first things first, we need some documents to work with.\n",
        "\n",
        "While we could work directly with the `.txt` files (or whatever file-types you wanted to extend this to) we can instead do some batch processing of those documents at the beginning in order to store them in a more machine compatible format.\n",
        "\n",
        "In this case, we're going to parse our text file into a single document in memory.\n",
        "\n",
        "Let's look at the relevant bits of the `TextFileLoader` class:\n",
        "\n",
        "```python\n",
        "def load_file(self):\n",
        "        with open(self.path, \"r\", encoding=self.encoding) as f:\n",
        "            self.documents.append(f.read())\n",
        "```\n",
        "\n",
        "We're simply loading the document using the built in `open` method, and storing that output in our `self.documents` list.\n"
      ]
    },
    {
      "cell_type": "code",
      "execution_count": 4,
      "metadata": {
        "colab": {
          "base_uri": "https://localhost:8080/"
        },
        "id": "Ia2sUEuGR6yu",
        "outputId": "84937ecc-c35f-4c4a-a4ab-9da72625954c"
      },
      "outputs": [
        {
          "data": {
            "text/plain": [
              "1"
            ]
          },
          "execution_count": 4,
          "metadata": {},
          "output_type": "execute_result"
        }
      ],
      "source": [
        "text_loader = TextFileLoader(\"data/PMarcaBlogs.txt\")\n",
        "documents = text_loader.load_documents()\n",
        "len(documents)"
      ]
    },
    {
      "cell_type": "code",
      "execution_count": 5,
      "metadata": {
        "colab": {
          "base_uri": "https://localhost:8080/"
        },
        "id": "bV-tj5WFR6yu",
        "outputId": "674eb315-1ff3-4597-bcf5-38ece0a812ac"
      },
      "outputs": [
        {
          "name": "stdout",
          "output_type": "stream",
          "text": [
            "\n",
            "The Pmarca Blog Archives\n",
            "(select posts from 2007-2009)\n",
            "Marc Andreessen\n",
            "copyright: Andreessen Horow\n"
          ]
        }
      ],
      "source": [
        "print(documents[0][:100])"
      ]
    },
    {
      "cell_type": "markdown",
      "metadata": {
        "id": "nHlTvCzYR6yu"
      },
      "source": [
        "### Splitting Text Into Chunks\n",
        "\n",
        "As we can see, there is one document - and it's the entire text of Frakenstein\n",
        "\n",
        "We'll want to chunk the document into smaller parts so it's easier to pass the most relevant snippets to the LLM.\n",
        "\n",
        "There is no fixed way to split/chunk documents - and you'll need to rely on some intuition as well as knowing your data *very* well in order to build the most robust system.\n",
        "\n",
        "For this toy example, we'll just split blindly on length.\n",
        "\n",
        ">There's an opportunity to clear up some terminology here, for this course we will be stick to the following:\n",
        ">\n",
        ">- \"source documents\" : The `.txt`, `.pdf`, `.html`, ..., files that make up the files and information we start with in its raw format\n",
        ">- \"document(s)\" : single (or more) text object(s)\n",
        ">- \"corpus\" : the combination of all of our documents"
      ]
    },
    {
      "cell_type": "markdown",
      "metadata": {
        "id": "M0DV5Yx5R6yu"
      },
      "source": [
        "Let's take a peek visually at what we're doing here - and why it might be useful:\n",
        "\n",
        "<img src=\"https://i.imgur.com/rtM6Ci6.png\" />"
      ]
    },
    {
      "cell_type": "markdown",
      "metadata": {
        "id": "2G6Voc0jR6yv"
      },
      "source": [
        "As you can see (though it's not specifically true in this toy example) the idea of splitting documents is to break them into managable sized chunks that retain the most relevant local context."
      ]
    },
    {
      "cell_type": "code",
      "execution_count": 6,
      "metadata": {
        "colab": {
          "base_uri": "https://localhost:8080/"
        },
        "id": "UMC4tsEmR6yv",
        "outputId": "08689c0b-57cd-4040-942a-8193e997f5cb"
      },
      "outputs": [
        {
          "data": {
            "text/plain": [
              "373"
            ]
          },
          "execution_count": 6,
          "metadata": {},
          "output_type": "execute_result"
        }
      ],
      "source": [
        "text_splitter = CharacterTextSplitter()\n",
        "split_documents = text_splitter.split_texts(documents)\n",
        "len(split_documents)"
      ]
    },
    {
      "cell_type": "markdown",
      "metadata": {
        "id": "W2wKT0WLR6yv"
      },
      "source": [
        "Let's take a look at some of the documents we've managed to split."
      ]
    },
    {
      "cell_type": "code",
      "execution_count": 7,
      "metadata": {
        "colab": {
          "base_uri": "https://localhost:8080/"
        },
        "id": "vcYMwWJoR6yv",
        "outputId": "20d69876-feca-4826-b4be-32915276987a"
      },
      "outputs": [
        {
          "data": {
            "text/plain": [
              "['\\ufeff\\nThe Pmarca Blog Archives\\n(select posts from 2007-2009)\\nMarc Andreessen\\ncopyright: Andreessen Horowitz\\ncover design: Jessica Hagy\\nproduced using: Pressbooks\\nContents\\nTHE PMARCA GUIDE TO STARTUPS\\nPart 1: Why not to do a startup 2\\nPart 2: When the VCs say \"no\" 10\\nPart 3: \"But I don\\'t know any VCs!\" 18\\nPart 4: The only thing that matters 25\\nPart 5: The Moby Dick theory of big companies 33\\nPart 6: How much funding is too little? Too much? 41\\nPart 7: Why a startup\\'s initial business plan doesn\\'t\\nmatter that much\\n49\\nTHE PMARCA GUIDE TO HIRING\\nPart 8: Hiring, managing, promoting, and Dring\\nexecutives\\n54\\nPart 9: How to hire a professional CEO 68\\nHow to hire the best people you\\'ve ever worked\\nwith\\n69\\nTHE PMARCA GUIDE TO BIG COMPANIES\\nPart 1: Turnaround! 82\\nPart 2: Retaining great people 86\\nTHE PMARCA GUIDE TO CAREER, PRODUCTIVITY,\\nAND SOME OTHER THINGS\\nIntroduction 97\\nPart 1: Opportunity 99\\nPart 2: Skills and education 107\\nPart 3: Where to go and why 120\\nThe Pmarca Guide to Personal Productivi']"
            ]
          },
          "execution_count": 7,
          "metadata": {},
          "output_type": "execute_result"
        }
      ],
      "source": [
        "split_documents[0:1]"
      ]
    },
    {
      "cell_type": "code",
      "execution_count": 8,
      "metadata": {},
      "outputs": [
        {
          "name": "stdout",
          "output_type": "stream",
          "text": [
            "\n",
            "The Pmarca Blog Archives\n",
            "(select posts from 2007-2009)\n",
            "Marc Andreessen\n",
            "copyright: Andreessen Horowitz\n",
            "cover design: Jessica Hagy\n",
            "produced using: Pressbooks\n",
            "Contents\n",
            "THE PMARCA GUIDE TO STARTUPS\n",
            "Part 1: Why not to do a startup 2\n",
            "Part 2: When the VCs say \"no\" 10\n",
            "Part 3: \"But I don't know any VCs!\" 18\n",
            "Part 4: The only thing that matters 25\n",
            "Part 5: The Moby Dick theory of big companies 33\n",
            "Part 6: How much funding is too little? Too much? 41\n",
            "Part 7: Why a startup's initial business plan doesn't\n",
            "matter that much\n",
            "49\n",
            "THE PMARCA GUIDE TO HIRING\n",
            "Part 8: Hiring, managing, promoting, and Dring\n",
            "executives\n",
            "54\n",
            "Part 9: How to hire a professional CEO 68\n",
            "How to hire the best people you've ever worked\n",
            "with\n",
            "69\n",
            "THE PMARCA GUIDE TO BIG COMPANIES\n",
            "Part 1: Turnaround! 82\n",
            "Part 2: Retaining great people 86\n",
            "THE PMARCA GUIDE TO CAREER, PRODUCTIVITY,\n",
            "AND SOME OTHER THINGS\n",
            "Introduction 97\n",
            "Part 1: Opportunity 99\n",
            "Part 2: Skills and education 107\n",
            "Part 3: Where to go and why 120\n",
            "The Pmarca Guide to Personal Productivi\n"
          ]
        }
      ],
      "source": [
        "print(split_documents[0])"
      ]
    },
    {
      "cell_type": "markdown",
      "metadata": {
        "id": "HOU-RFP_R6yv"
      },
      "source": [
        "## Task 3: Embeddings and Vectors\n",
        "\n",
        "Next, we have to convert our corpus into a \"machine readable\" format.\n",
        "\n",
        "Loosely, this means turning the text into numbers.\n",
        "\n",
        "Today, we're going to talk about the actual process of creating, and then storing, these embeddings, and how we can leverage that to intelligently add context to our queries."
      ]
    },
    {
      "cell_type": "markdown",
      "metadata": {},
      "source": [
        "### Embeddings and Dense Vector Search: A Quick Primer\n",
        "\n",
        "If you come from an NLP background, embeddings are something you might be intimately familiar with - otherwise, you might find the topic a bit...dense. (this attempt at a joke will make more sense later)\n",
        "\n",
        "In all seriousness, embeddings are a powerful piece of the NLP puzzle, so let's dive in!\n",
        "\n",
        "> NOTE: While this notebook language/NLP-centric, embeddings have uses beyond just text!"
      ]
    },
    {
      "cell_type": "markdown",
      "metadata": {},
      "source": [
        "#### Why Do We Even Need Embeddings?\n",
        "\n",
        "In order to fully understand what Embeddings are, we first need to understand why we have them!\n",
        "\n",
        "Machine Learning algorithms, ranging from the very big to the very small, all have one thing in common:\n",
        "\n",
        "They need numeric inputs.\n",
        "\n",
        "So we need a process by which to translate the domain we live in, dominated by images, audio, language, and more, into the domain of the machine: Numbers.\n",
        "\n",
        "Another thing we want to be able to do is capture \"semantic information\" about words/phrases so that we can use algorithmic approaches to determine if words are closely related or not!\n",
        "\n",
        "So, we need to come up with a process that does these two things well:\n",
        "\n",
        "- Convert non-numeric data into numeric-data\n",
        "- Capture potential semantic relationships between individual pieces of data"
      ]
    },
    {
      "cell_type": "markdown",
      "metadata": {},
      "source": [
        "#### How Do Embeddings Capture Semantic Relationships?\n",
        "\n",
        "In a simplified sense, embeddings map a word or phrase into n-dimensional space with a dense continuous vector, where each dimension in the vector represents some \"latent feature\" of the data.\n",
        "\n",
        "This is best represented in a classic example:\n",
        "\n",
        "![image](https://i.imgur.com/K5eQtmH.png)\n",
        "\n",
        "As can be seen in the extremely simplified example: The X_1 axis represents age, and the X_2 axis represents hair.\n",
        "\n",
        "The relationship of \"puppy -> dog\" reflects the same relationship as \"baby -> adult\", but dogs are (typically) hairier than humans. However, adults typically have more hair than babies - so they are shifted slightly closer to dogs on the X_2 axis!\n",
        "\n",
        "Now, this is a simplified and contrived example - but it is *essentially* the mechanism by which embeddings capture semantic information.\n",
        "\n",
        "In reality, the dimensions don't sincerely represent hard-concepts like \"age\" or \"hair\", but it's useful as a way to think about how the semantic relationships are captured.\n",
        "\n",
        "Alright, with some history behind us - let's examine how these might help us choose relevant context."
      ]
    },
    {
      "cell_type": "markdown",
      "metadata": {},
      "source": [
        "Let's begin with a simple example - simply looking at how close to embedding vectors are for a given phrase.\n",
        "\n",
        "When we use the term \"close\" in this notebook - we're referring to a distance measure called \"cosine similarity\".\n",
        "\n",
        "We discussed above that if two embeddings are close - they are semantically similar, cosine similarity gives us a quick way to measure how similar two vectors are!\n",
        "\n",
        "Closeness is measured from 1 to -1, with 1 being extremely close and -1 being extremely close to opposite in meaning.\n",
        "\n",
        "Let's implement it with Numpy below."
      ]
    },
    {
      "cell_type": "code",
      "execution_count": 9,
      "metadata": {},
      "outputs": [],
      "source": [
        "import numpy as np\n",
        "from numpy.linalg import norm\n",
        "\n",
        "def cosine_similarity(vec_1, vec_2):\n",
        "  return np.dot(vec_1, vec_2) / (norm(vec_1) * norm(vec_2))"
      ]
    },
    {
      "cell_type": "markdown",
      "metadata": {},
      "source": [
        "Now let's use the `text-embedding-3-small` embedding model (more on that in a second) to embed two sentences. In order to use this embedding model endpoint - we'll need to provide our OpenAI API key!"
      ]
    },
    {
      "cell_type": "code",
      "execution_count": 10,
      "metadata": {
        "colab": {
          "base_uri": "https://localhost:8080/"
        },
        "id": "EaOETZGpR6yv",
        "outputId": "1239abf1-faff-49f2-a67c-7350e50fb1b9"
      },
      "outputs": [],
      "source": [
        "import os\n",
        "import openai\n",
        "from getpass import getpass\n",
        "\n",
        "openai.api_key = getpass(\"OpenAI API Key: \")\n",
        "os.environ[\"OPENAI_API_KEY\"] = openai.api_key"
      ]
    },
    {
      "cell_type": "code",
      "execution_count": 11,
      "metadata": {},
      "outputs": [],
      "source": [
        "from aimakerspace.openai_utils.embedding import EmbeddingModel\n",
        "\n",
        "embedding_model = EmbeddingModel()"
      ]
    },
    {
      "cell_type": "markdown",
      "metadata": {},
      "source": [
        "Let's define our two sentences:"
      ]
    },
    {
      "cell_type": "code",
      "execution_count": 12,
      "metadata": {},
      "outputs": [],
      "source": [
        "puppy_sentence = \"I love puppies!\"\n",
        "dog_sentence = \"I love dogs!\""
      ]
    },
    {
      "cell_type": "markdown",
      "metadata": {},
      "source": [
        "Now we can convert those into embedding vectors using OpenAI!"
      ]
    },
    {
      "cell_type": "code",
      "execution_count": 13,
      "metadata": {},
      "outputs": [],
      "source": [
        "puppy_vector = embedding_model.get_embedding(puppy_sentence)\n",
        "dog_vector = embedding_model.get_embedding(dog_sentence)"
      ]
    },
    {
      "cell_type": "markdown",
      "metadata": {},
      "source": [
        "Now we can determine how closely they are related using our distance measure!"
      ]
    },
    {
      "cell_type": "code",
      "execution_count": 14,
      "metadata": {},
      "outputs": [
        {
          "data": {
            "text/plain": [
              "0.8340215662150424"
            ]
          },
          "execution_count": 14,
          "metadata": {},
          "output_type": "execute_result"
        }
      ],
      "source": [
        "cosine_similarity(puppy_vector, dog_vector)"
      ]
    },
    {
      "cell_type": "markdown",
      "metadata": {},
      "source": [
        "Remember, with cosine similarity, close to 1. means they're very close!\n",
        "\n",
        "Let's see what happens if we use a different set of sentences."
      ]
    },
    {
      "cell_type": "code",
      "execution_count": 15,
      "metadata": {},
      "outputs": [
        {
          "data": {
            "text/plain": [
              "0.3724333322983298"
            ]
          },
          "execution_count": 15,
          "metadata": {},
          "output_type": "execute_result"
        }
      ],
      "source": [
        "puppy_sentence = \"I love puppies!\"\n",
        "cat_sentence = \"I dislike cats!\"\n",
        "\n",
        "puppy_vector = embedding_model.get_embedding(puppy_sentence)\n",
        "cat_vector = embedding_model.get_embedding(cat_sentence)\n",
        "\n",
        "cosine_similarity(puppy_vector, cat_vector)"
      ]
    },
    {
      "cell_type": "markdown",
      "metadata": {},
      "source": [
        "As you can see - these vectors are further apart - as expected!\n",
        "\n",
        "Now that we've gotten some background - lets see this put together with a few extra layers on top!"
      ]
    },
    {
      "cell_type": "markdown",
      "metadata": {},
      "source": [
        "### Vector Database\n",
        "\n",
        "Let's set up our vector database to hold all our documents and their embeddings!"
      ]
    },
    {
      "cell_type": "markdown",
      "metadata": {
        "id": "kDQrfAR1R6yv"
      },
      "source": [
        "While this is all baked into 1 call - we can look at some of the code that powers this process to get a better understanding:\n",
        "\n",
        "Let's look at our `VectorDatabase().__init__()`:\n",
        "\n",
        "```python\n",
        "def __init__(self, embedding_model: EmbeddingModel = None):\n",
        "        self.vectors = defaultdict(np.array)\n",
        "        self.embedding_model = embedding_model or EmbeddingModel()\n",
        "```\n",
        "\n",
        "As you can see - our vectors are merely stored as a dictionary of `np.array` objects.\n",
        "\n",
        "Secondly, our `VectorDatabase()` has a default `EmbeddingModel()` which is a wrapper for OpenAI's `text-embedding-3-small` model.\n",
        "\n",
        "> **Quick Info About `text-embedding-3-small`**:\n",
        "> - It has a context window of **8191** tokens\n",
        "> - It returns vectors with dimension **1536**"
      ]
    },
    {
      "cell_type": "markdown",
      "metadata": {
        "id": "L273pRdeR6yv"
      },
      "source": [
        "#### ❓Question #1:\n",
        "\n",
        "The default embedding dimension of `text-embedding-3-small` is 1536, as noted above. \n",
        "\n",
        "1. Is there any way to modify this dimension?\n",
        "\n",
        "> Yes, `text-embedding-3` and later models support the `dimensions` argument. [ref](https://platform.openai.com/docs/api-reference/embeddings/create#embeddings-create-dimensions)\n",
        "\n",
        "2. What technique does OpenAI use to achieve this?\n",
        "> It leverages [Matryoshka Representation Learning](https://arxiv.org/abs/2205.13147)\n",
        "\n",
        "> NOTE: Check out this [API documentation](https://platform.openai.com/docs/api-reference/embeddings/create) for the answer to question #1, and [this documentation](https://platform.openai.com/docs/guides/embeddings/use-cases) for an answer to question #2!"
      ]
    },
    {
      "cell_type": "markdown",
      "metadata": {
        "id": "w5FZY7K3R6yv"
      },
      "source": [
        "We can call the `async_get_embeddings` method of our `EmbeddingModel()` on a list of `str` and receive a list of `float` back!\n",
        "\n",
        "```python\n",
        "async def async_get_embeddings(self, list_of_text: List[str]) -> List[List[float]]:\n",
        "        return await aget_embeddings(\n",
        "            list_of_text=list_of_text, engine=self.embeddings_model_name\n",
        "        )\n",
        "```"
      ]
    },
    {
      "cell_type": "markdown",
      "metadata": {
        "id": "cSct6X0aR6yv"
      },
      "source": [
        "We cast those to `np.array` when we build our `VectorDatabase()`:\n",
        "\n",
        "```python\n",
        "async def abuild_from_list(self, list_of_text: List[str]) -> \"VectorDatabase\":\n",
        "        embeddings = await self.embedding_model.async_get_embeddings(list_of_text)\n",
        "        for text, embedding in zip(list_of_text, embeddings):\n",
        "            self.insert(text, np.array(embedding))\n",
        "        return self\n",
        "```\n",
        "\n",
        "And that's all we need to do!"
      ]
    },
    {
      "cell_type": "code",
      "execution_count": 16,
      "metadata": {
        "id": "O4KoLbVDR6yv"
      },
      "outputs": [],
      "source": [
        "vector_db = VectorDatabase()\n",
        "vector_db = asyncio.run(vector_db.abuild_from_list(split_documents))"
      ]
    },
    {
      "cell_type": "markdown",
      "metadata": {
        "id": "SSZwaGvpR6yv"
      },
      "source": [
        "#### ❓Question #2:\n",
        "\n",
        "What are the benefits of using an `async` approach to collecting our embeddings?\n",
        "\n",
        "> NOTE: Determining the core difference between `async` and `sync` will be useful! If you get stuck - ask ChatGPT!\n",
        "\n",
        "\n",
        "### From Ravi\n",
        "In this specific example, `asyncio.run()` allows us to execute an async function without having to instantiate and manage an asyncio event loop. The `async` nature of `abuild_from_list()` allow the function to API calls to OpenAI and immediately continue to the next cell. Had this been a \"real\" application, other code could be executing while `vector_db.abuild_from_list()` is executing. \n",
        "\n",
        "In traditional \"sync\" code, Python statements are run sequentionally waiting for each one to complete. IO operations, such as database operations, HTTP requests, or file operations, can be relatively long compared to CPU-bound operations. \n",
        "\n",
        "### From ChatGPT:\n",
        "1. **Improved Efficiency**: Asynchronous programming allows multiple tasks to be executed concurrently, making better use of system resources and reducing overall execution time. This is particularly useful when collecting embeddings for a large number of documents, as it allows for parallel processing and faster completion.\n",
        "\n",
        "2. **Non-Blocking Execution**: With asynchronous programming, tasks can be executed independently without waiting for the completion of previous tasks. This means that while one document is being processed and its embedding is being collected, other documents can be processed simultaneously. This non-blocking execution improves the overall responsiveness and performance of the embedding collection process.\n",
        "\n",
        "3. **Scalability**: Asynchronous programming enables scalability by efficiently utilizing available resources. It allows for the processing of multiple documents concurrently, making it easier to handle larger datasets or perform real-time embedding collection without significant performance degradation.\n",
        "\n",
        "4. **Integration with External APIs**: Many embedding models or services, such as OpenAI's text-embedding models, provide asynchronous APIs for embedding retrieval. By using an `async` approach, you can seamlessly integrate with these APIs and take advantage of their asynchronous nature, resulting in faster and more efficient embedding collection.\n",
        "\n",
        "5. **Flexibility and Responsiveness**: Asynchronous programming allows for better responsiveness and flexibility in handling dynamic situations. For example, if there are delays or timeouts in retrieving embeddings for certain documents, an `async` approach can handle these situations gracefully without blocking the entire process.\n",
        "\n",
        "Overall, using an `async` approach for collecting embeddings improves efficiency, scalability, responsiveness, and integration with external services, making it a preferred choice for large-scale embedding collection tasks.\n",
        "\n"
      ]
    },
    {
      "cell_type": "markdown",
      "metadata": {
        "id": "nRBdIt-xR6yw"
      },
      "source": [
        "So, to review what we've done so far in natural language:\n",
        "\n",
        "1. We load source documents\n",
        "2. We split those source documents into smaller chunks (documents)\n",
        "3. We send each of those documents to the `text-embedding-3-small` OpenAI API endpoint\n",
        "4. We store each of the text representations with the vector representations as keys/values in a dictionary"
      ]
    },
    {
      "cell_type": "markdown",
      "metadata": {
        "id": "4-vWANZyR6yw"
      },
      "source": [
        "### Semantic Similarity\n",
        "\n",
        "The next step is to be able to query our `VectorDatabase()` with a `str` and have it return to us vectors and text that is most relevant from our corpus.\n",
        "\n",
        "We're going to use the following process to achieve this in our toy example:\n",
        "\n",
        "1. We need to embed our query with the same `EmbeddingModel()` as we used to construct our `VectorDatabase()`\n",
        "2. We loop through every vector in our `VectorDatabase()` and use a distance measure to compare how related they are\n",
        "3. We return a list of the top `k` closest vectors, with their text representations\n",
        "\n",
        "There's some very heavy optimization that can be done at each of these steps - but let's just focus on the basic pattern in this notebook.\n",
        "\n",
        "> We are using [cosine similarity](https://www.engati.com/glossary/cosine-similarity) as a distance metric in this example - but there are many many distance metrics you could use - like [these](https://flavien-vidal.medium.com/similarity-distances-for-natural-language-processing-16f63cd5ba55)\n",
        "\n",
        "> We are using a rather inefficient way of calculating relative distance between the query vector and all other vectors - there are more advanced approaches that are much more efficient, like [ANN](https://towardsdatascience.com/comprehensive-guide-to-approximate-nearest-neighbors-algorithms-8b94f057d6b6)"
      ]
    },
    {
      "cell_type": "code",
      "execution_count": 17,
      "metadata": {
        "colab": {
          "base_uri": "https://localhost:8080/"
        },
        "id": "76d96uavR6yw",
        "outputId": "bbfccc31-20a2-41c7-c14d-46554a43ed2d"
      },
      "outputs": [
        {
          "data": {
            "text/plain": [
              "[('ordingly.\\nSeventh, when hiring the executive to run your former specialty, be\\ncareful you don’t hire someone weak on purpose.\\nThis sounds silly, but you wouldn’t believe how oaen it happens.\\nThe CEO who used to be a product manager who has a weak\\nproduct management executive. The CEO who used to be in\\nsales who has a weak sales executive. The CEO who used to be\\nin marketing who has a weak marketing executive.\\nI call this the “Michael Eisner Memorial Weak Executive Problem” — aaer the CEO of Disney who had previously been a brilliant TV network executive. When he bought ABC at Disney, it\\npromptly fell to fourth place. His response? “If I had an extra\\ntwo days a week, I could turn around ABC myself.” Well, guess\\nwhat, he didn’t have an extra two days a week.\\nA CEO — or a startup founder — oaen has a hard time letting\\ngo of the function that brought him to the party. The result: you\\nhire someone weak into the executive role for that function so\\nthat you can continue to be “the man” — cons',\n",
              "  0.6538317104772138),\n",
              " ('m. They have areas where they are truly deXcient in judgment or skill set. That’s just life. Almost nobody is brilliant\\nat everything. When hiring and when Hring executives, you\\nmust therefore focus on strength rather than lack of weakness. Everybody has severe weaknesses even if you can’t see\\nthem yet. When managing, it’s oaen useful to micromanage and\\nto provide remedial training around these weaknesses. Doing so\\nmay make the diWerence between an executive succeeding or\\nfailing.\\nFor example, you might have a brilliant engineering executive\\nwho generates excellent team loyalty, has terriXc product judgment and makes the trains run on time. This same executive\\nmay be very poor at relating to the other functions in the company. She may generate far more than her share of cross-functional conYicts, cut herself oW from critical information, and\\nsigniXcantly impede your ability to sell and market eWectively.\\nYour alternatives are:\\n(a) Macro-manage and give her an annual or quarterly object',\n",
              "  0.5035116156743895),\n",
              " ('ed?\\nIn reality — as opposed to Marc’s warped view of reality — it will\\nbe extremely helpful for Marc [if he were actually the CEO,\\nwhich he is not] to meet with the new head of engineering daily\\nwhen she comes on board and review all of her thinking and\\ndecisions. This level of micromanagement will accelerate her\\ntraining and improve her long-term eWectiveness. It will make\\nher seem smarter to the rest of the organization which will build\\ncredibility and conXdence while she comes up to speed. Micromanaging new executives is generally a good idea for a limited\\nperiod of time.\\nHowever, that is not the only time that it makes sense to micro66 The Pmarca Blog Archives\\nmanage executives. It turns out that just about every executive\\nin the world has a few things that are seriously wrong with\\nthem. They have areas where they are truly deXcient in judgment or skill set. That’s just life. Almost nobody is brilliant\\nat everything. When hiring and when Hring executives, you\\nmust therefore focus o',\n",
              "  0.4813725853707096)]"
            ]
          },
          "execution_count": 17,
          "metadata": {},
          "output_type": "execute_result"
        }
      ],
      "source": [
        "vector_db.search_by_text(\"What is the Michael Eisner Memorial Weak Executive Problem?\", k=3)"
      ]
    },
    {
      "cell_type": "markdown",
      "metadata": {
        "id": "TehsfIiKR6yw"
      },
      "source": [
        "## Task 4: Prompts\n",
        "\n",
        "In the following section, we'll be looking at the role of prompts - and how they help us to guide our application in the right direction.\n",
        "\n",
        "In this notebook, we're going to rely on the idea of \"zero-shot in-context learning\".\n",
        "\n",
        "This is a lot of words to say: \"We will ask it to perform our desired task in the prompt, and provide no examples.\""
      ]
    },
    {
      "cell_type": "markdown",
      "metadata": {
        "id": "yXpA0UveR6yw"
      },
      "source": [
        "### XYZRolePrompt\n",
        "\n",
        "Before we do that, let's stop and think a bit about how OpenAI's chat models work.\n",
        "\n",
        "We know they have roles - as is indicated in the following API [documentation](https://platform.openai.com/docs/api-reference/chat/create#chat/create-messages)\n",
        "\n",
        "There are three roles, and they function as follows (taken directly from [OpenAI](https://platform.openai.com/docs/guides/gpt/chat-completions-api)):\n",
        "\n",
        "- `{\"role\" : \"system\"}` : The system message helps set the behavior of the assistant. For example, you can modify the personality of the assistant or provide specific instructions about how it should behave throughout the conversation. However note that the system message is optional and the model’s behavior without a system message is likely to be similar to using a generic message such as \"You are a helpful assistant.\"\n",
        "- `{\"role\" : \"user\"}` : The user messages provide requests or comments for the assistant to respond to.\n",
        "- `{\"role\" : \"assistant\"}` : Assistant messages store previous assistant responses, but can also be written by you to give examples of desired behavior.\n",
        "\n",
        "The main idea is this:\n",
        "\n",
        "1. You start with a system message that outlines how the LLM should respond, what kind of behaviours you can expect from it, and more\n",
        "2. Then, you can provide a few examples in the form of \"assistant\"/\"user\" pairs\n",
        "3. Then, you prompt the model with the true \"user\" message.\n",
        "\n",
        "In this example, we'll be forgoing the 2nd step for simplicities sake."
      ]
    },
    {
      "cell_type": "markdown",
      "metadata": {
        "id": "gdZ2KWKSR6yw"
      },
      "source": [
        "#### Utility Functions\n",
        "\n",
        "You'll notice that we're using some utility functions from the `aimakerspace` module - let's take a peek at these and see what they're doing!"
      ]
    },
    {
      "cell_type": "markdown",
      "metadata": {
        "id": "GFbeJDDsR6yw"
      },
      "source": [
        "##### XYZRolePrompt"
      ]
    },
    {
      "cell_type": "markdown",
      "metadata": {},
      "source": []
    },
    {
      "cell_type": "markdown",
      "metadata": {
        "id": "5mojJSE3R6yw"
      },
      "source": [
        "Here we have our `system`, `user`, and `assistant` role prompts.\n",
        "\n",
        "Let's take a peek at what they look like:\n",
        "\n",
        "```python\n",
        "class BasePrompt:\n",
        "    def __init__(self, prompt):\n",
        "        \"\"\"\n",
        "        Initializes the BasePrompt object with a prompt template.\n",
        "\n",
        "        :param prompt: A string that can contain placeholders within curly braces\n",
        "        \"\"\"\n",
        "        self.prompt = prompt\n",
        "        self._pattern = re.compile(r\"\\{([^}]+)\\}\")\n",
        "\n",
        "    def format_prompt(self, **kwargs):\n",
        "        \"\"\"\n",
        "        Formats the prompt string using the keyword arguments provided.\n",
        "\n",
        "        :param kwargs: The values to substitute into the prompt string\n",
        "        :return: The formatted prompt string\n",
        "        \"\"\"\n",
        "        matches = self._pattern.findall(self.prompt)\n",
        "        return self.prompt.format(**{match: kwargs.get(match, \"\") for match in matches})\n",
        "\n",
        "    def get_input_variables(self):\n",
        "        \"\"\"\n",
        "        Gets the list of input variable names from the prompt string.\n",
        "\n",
        "        :return: List of input variable names\n",
        "        \"\"\"\n",
        "        return self._pattern.findall(self.prompt)\n",
        "```\n",
        "\n",
        "Then we have our `RolePrompt` which laser focuses us on the role pattern found in most API endpoints for LLMs.\n",
        "\n",
        "```python\n",
        "class RolePrompt(BasePrompt):\n",
        "    def __init__(self, prompt, role: str):\n",
        "        \"\"\"\n",
        "        Initializes the RolePrompt object with a prompt template and a role.\n",
        "\n",
        "        :param prompt: A string that can contain placeholders within curly braces\n",
        "        :param role: The role for the message ('system', 'user', or 'assistant')\n",
        "        \"\"\"\n",
        "        super().__init__(prompt)\n",
        "        self.role = role\n",
        "\n",
        "    def create_message(self, **kwargs):\n",
        "        \"\"\"\n",
        "        Creates a message dictionary with a role and a formatted message.\n",
        "\n",
        "        :param kwargs: The values to substitute into the prompt string\n",
        "        :return: Dictionary containing the role and the formatted message\n",
        "        \"\"\"\n",
        "        return {\"role\": self.role, \"content\": self.format_prompt(**kwargs)}\n",
        "```\n",
        "\n",
        "We'll look at how the `SystemRolePrompt` is constructed to get a better idea of how that extension works:\n",
        "\n",
        "```python\n",
        "class SystemRolePrompt(RolePrompt):\n",
        "    def __init__(self, prompt: str):\n",
        "        super().__init__(prompt, \"system\")\n",
        "```\n",
        "\n",
        "That pattern is repeated for our `UserRolePrompt` and our `AssistantRolePrompt` as well."
      ]
    },
    {
      "cell_type": "markdown",
      "metadata": {
        "id": "D361R6sMR6yw"
      },
      "source": [
        "##### ChatOpenAI"
      ]
    },
    {
      "cell_type": "markdown",
      "metadata": {
        "id": "HJVQ2Pm8R6yw"
      },
      "source": [
        "Next we have our model, which is converted to a format analagous to libraries like LangChain and LlamaIndex.\n",
        "\n",
        "Let's take a peek at how that is constructed:\n",
        "\n",
        "```python\n",
        "class ChatOpenAI:\n",
        "    def __init__(self, model_name: str = \"gpt-3.5-turbo\"):\n",
        "        self.model_name = model_name\n",
        "        self.openai_api_key = os.getenv(\"OPENAI_API_KEY\")\n",
        "        if self.openai_api_key is None:\n",
        "            raise ValueError(\"OPENAI_API_KEY is not set\")\n",
        "\n",
        "    def run(self, messages, text_only: bool = True):\n",
        "        if not isinstance(messages, list):\n",
        "            raise ValueError(\"messages must be a list\")\n",
        "\n",
        "        openai.api_key = self.openai_api_key\n",
        "        response = openai.ChatCompletion.create(\n",
        "            model=self.model_name, messages=messages\n",
        "        )\n",
        "\n",
        "        if text_only:\n",
        "            return response.choices[0].message.content\n",
        "\n",
        "        return response\n",
        "```"
      ]
    },
    {
      "cell_type": "markdown",
      "metadata": {
        "id": "qCU7FfhIR6yw"
      },
      "source": [
        "#### ❓ Question #3:\n",
        "\n",
        "When calling the OpenAI API - are there any ways we can achieve more reproducible outputs?\n",
        "\n",
        "> NOTE: Check out [this section](https://platform.openai.com/docs/guides/text-generation/reproducible-outputs) of the OpenAI documentation for the answer!\n",
        "\n",
        "OpenAI recommends the following to optimize for deterministic results across API calls:\n",
        "* Set and reuse the same [seed parameter](https://platform.openai.com/docs/api-reference/chat/create#chat-create-seed) and [system_fingerprint](https://platform.openai.com/docs/api-reference/completions/object#completions/object-system_fingerprint) values.\n",
        "* Additionally, all other parameters such as `prompt` and `temperature`, must be the same\n",
        "* Also, setting `temperature=0` will instruct the model to return the most deterministic response as it will choose the answer that it is most confident in. The responses will be more \"robotic\" because the mdoel will not be as creative when phrasing responses.\n",
        "\n"
      ]
    },
    {
      "cell_type": "markdown",
      "metadata": {
        "id": "c5wcjMLCR6yw"
      },
      "source": [
        "### Creating and Prompting OpenAI's `gpt-3.5-turbo`!\n",
        "\n",
        "Let's tie all these together and use it to prompt `gpt-3.5-turbo`!"
      ]
    },
    {
      "cell_type": "code",
      "execution_count": 18,
      "metadata": {
        "id": "WIfpIot7R6yw"
      },
      "outputs": [],
      "source": [
        "from aimakerspace.openai_utils.prompts import (\n",
        "    UserRolePrompt,\n",
        "    SystemRolePrompt,\n",
        "    AssistantRolePrompt,\n",
        ")\n",
        "\n",
        "from aimakerspace.openai_utils.chatmodel import ChatOpenAI\n",
        "\n",
        "chat_openai = ChatOpenAI()\n",
        "user_prompt_template = \"{content}\"\n",
        "user_role_prompt = UserRolePrompt(user_prompt_template)\n",
        "system_prompt_template = (\n",
        "    \"You are an expert in {expertise}, you always answer in a kind way.\"\n",
        ")\n",
        "system_role_prompt = SystemRolePrompt(system_prompt_template)\n",
        "\n",
        "messages = [\n",
        "    user_role_prompt.create_message(\n",
        "        content=\"What is the best way to write a loop?\"\n",
        "    ),\n",
        "    system_role_prompt.create_message(expertise=\"Python\"),\n",
        "]\n",
        "\n",
        "response = chat_openai.run(messages)"
      ]
    },
    {
      "cell_type": "code",
      "execution_count": 19,
      "metadata": {
        "colab": {
          "base_uri": "https://localhost:8080/"
        },
        "id": "dHo7lssNR6yw",
        "outputId": "1d3823fa-bb6b-45f6-ddba-b41686388324"
      },
      "outputs": [
        {
          "name": "stdout",
          "output_type": "stream",
          "text": [
            "The best way to write a loop can vary depending on the specific use case and programming language you are using. In general, here are some tips for writing a loop effectively:\n",
            "\n",
            "1. Choose the right type of loop for your task. Common types of loops include `for` loops, `while` loops, and `do-while` loops. Use the one that best fits the logic of your program.\n",
            "\n",
            "2. Provide a clear condition for when the loop should stop. This will prevent an infinite loop and ensure that your program executes efficiently.\n",
            "\n",
            "3. Ensure that your loop body is correctly indented and well-structured for readability. This will make your code easier to understand for yourself and others who may be reviewing it.\n",
            "\n",
            "4. Keep your loop logic simple and concise. Avoid overly complex or nested loops that can make your code difficult to follow.\n",
            "\n",
            "5. Test your loop thoroughly to ensure that it behaves as expected and handles all possible edge cases. This will help catch any errors or unexpected behaviors before they cause issues in your program.\n",
            "\n",
            "Overall, the best way to write a loop is to write clean, clear, and efficient code that accomplishes the task at hand effectively. Happy coding!\n"
          ]
        }
      ],
      "source": [
        "print(response)"
      ]
    },
    {
      "cell_type": "markdown",
      "metadata": {
        "id": "r2nxxhB2R6yy"
      },
      "source": [
        "## Task 5: Retrieval Augmented Generation\n",
        "\n",
        "Now we can create a RAG prompt - which will help our system behave in a way that makes sense!\n",
        "\n",
        "There is much you could do here, many tweaks and improvements to be made!"
      ]
    },
    {
      "cell_type": "code",
      "execution_count": 20,
      "metadata": {
        "id": "D1hamzGaR6yy"
      },
      "outputs": [],
      "source": [
        "RAG_PROMPT_TEMPLATE = \"\"\" \\\n",
        "Use the provided context to answer the user's query.\n",
        "\n",
        "You may not answer the user's query unless there is specific context in the following text.\n",
        "\n",
        "If you do not know the answer, or cannot answer, please respond with \"I don't know\".\n",
        "\"\"\"\n",
        "\n",
        "rag_prompt = SystemRolePrompt(RAG_PROMPT_TEMPLATE)\n",
        "\n",
        "USER_PROMPT_TEMPLATE = \"\"\" \\\n",
        "Context:\n",
        "{context}\n",
        "\n",
        "User Query:\n",
        "{user_query}\n",
        "\"\"\"\n",
        "\n",
        "\n",
        "user_prompt = UserRolePrompt(USER_PROMPT_TEMPLATE)\n",
        "\n",
        "class RetrievalAugmentedQAPipeline:\n",
        "    def __init__(self, llm: ChatOpenAI(), vector_db_retriever: VectorDatabase) -> None:\n",
        "        self.llm = llm\n",
        "        self.vector_db_retriever = vector_db_retriever\n",
        "\n",
        "    def run_pipeline(self, user_query: str) -> str:\n",
        "        context_list = self.vector_db_retriever.search_by_text(user_query, k=4)\n",
        "\n",
        "        context_prompt = \"\"\n",
        "        for context in context_list:\n",
        "            context_prompt += context[0] + \"\\n\"\n",
        "\n",
        "        formatted_system_prompt = rag_prompt.create_message()\n",
        "\n",
        "        formatted_user_prompt = user_prompt.create_message(user_query=user_query, context=context_prompt)\n",
        "\n",
        "        return {\"response\" : self.llm.run([formatted_user_prompt, formatted_system_prompt]), \"context\" : context_list}"
      ]
    },
    {
      "cell_type": "markdown",
      "metadata": {
        "id": "zZIJI19uR6yz"
      },
      "source": [
        "#### ❓ Question #4:\n",
        "\n",
        "What prompting strategies could you use to make the LLM have a more thoughtful, detailed response?\n",
        "\n",
        "What is that strategy called?\n",
        "\n",
        "> NOTE: You can look through the Week 1 Day 2 material for an answer to this question!\n",
        "\n",
        "[Chain of Thought](https://community.openai.com/t/how-does-chain-of-thought-prompting-work/198558)"
      ]
    },
    {
      "cell_type": "code",
      "execution_count": 21,
      "metadata": {
        "id": "kqbE9fZ6R6yz"
      },
      "outputs": [],
      "source": [
        "retrieval_augmented_qa_pipeline = RetrievalAugmentedQAPipeline(\n",
        "    vector_db_retriever=vector_db,\n",
        "    llm=chat_openai\n",
        ")"
      ]
    },
    {
      "cell_type": "code",
      "execution_count": 22,
      "metadata": {
        "colab": {
          "base_uri": "https://localhost:8080/"
        },
        "id": "jAGhaCGOR6yz",
        "outputId": "e4fb3a1b-d2bc-4e18-ec31-dc0adf767163"
      },
      "outputs": [
        {
          "data": {
            "text/plain": [
              "{'response': 'The \"Michael Eisner Memorial Weak Executive Problem\" refers to a situation where a CEO or startup founder hires a weak executive for a specific function because they have a hard time letting go of the function that brought them to their current position. This can result in hiring executives who are not strong in that particular area so that the CEO can continue to play a dominant role. The term is named after Michael Eisner, the former CEO of Disney, who struggled with bringing ABC network back to success after acquiring it, showcasing this hiring issue.',\n",
              " 'context': [('ordingly.\\nSeventh, when hiring the executive to run your former specialty, be\\ncareful you don’t hire someone weak on purpose.\\nThis sounds silly, but you wouldn’t believe how oaen it happens.\\nThe CEO who used to be a product manager who has a weak\\nproduct management executive. The CEO who used to be in\\nsales who has a weak sales executive. The CEO who used to be\\nin marketing who has a weak marketing executive.\\nI call this the “Michael Eisner Memorial Weak Executive Problem” — aaer the CEO of Disney who had previously been a brilliant TV network executive. When he bought ABC at Disney, it\\npromptly fell to fourth place. His response? “If I had an extra\\ntwo days a week, I could turn around ABC myself.” Well, guess\\nwhat, he didn’t have an extra two days a week.\\nA CEO — or a startup founder — oaen has a hard time letting\\ngo of the function that brought him to the party. The result: you\\nhire someone weak into the executive role for that function so\\nthat you can continue to be “the man” — cons',\n",
              "   0.6582387824515996),\n",
              "  ('m. They have areas where they are truly deXcient in judgment or skill set. That’s just life. Almost nobody is brilliant\\nat everything. When hiring and when Hring executives, you\\nmust therefore focus on strength rather than lack of weakness. Everybody has severe weaknesses even if you can’t see\\nthem yet. When managing, it’s oaen useful to micromanage and\\nto provide remedial training around these weaknesses. Doing so\\nmay make the diWerence between an executive succeeding or\\nfailing.\\nFor example, you might have a brilliant engineering executive\\nwho generates excellent team loyalty, has terriXc product judgment and makes the trains run on time. This same executive\\nmay be very poor at relating to the other functions in the company. She may generate far more than her share of cross-functional conYicts, cut herself oW from critical information, and\\nsigniXcantly impede your ability to sell and market eWectively.\\nYour alternatives are:\\n(a) Macro-manage and give her an annual or quarterly object',\n",
              "   0.5088537081849304),\n",
              "  ('ed?\\nIn reality — as opposed to Marc’s warped view of reality — it will\\nbe extremely helpful for Marc [if he were actually the CEO,\\nwhich he is not] to meet with the new head of engineering daily\\nwhen she comes on board and review all of her thinking and\\ndecisions. This level of micromanagement will accelerate her\\ntraining and improve her long-term eWectiveness. It will make\\nher seem smarter to the rest of the organization which will build\\ncredibility and conXdence while she comes up to speed. Micromanaging new executives is generally a good idea for a limited\\nperiod of time.\\nHowever, that is not the only time that it makes sense to micro66 The Pmarca Blog Archives\\nmanage executives. It turns out that just about every executive\\nin the world has a few things that are seriously wrong with\\nthem. They have areas where they are truly deXcient in judgment or skill set. That’s just life. Almost nobody is brilliant\\nat everything. When hiring and when Hring executives, you\\nmust therefore focus o',\n",
              "   0.47903916559307813),\n",
              "  ('nYicts, cut herself oW from critical information, and\\nsigniXcantly impede your ability to sell and market eWectively.\\nYour alternatives are:\\n(a) Macro-manage and give her an annual or quarterly objective\\nto Xx it, or…\\n(b) Intensively micromanage her interactions until she learns\\nthe fundamental interpersonal skills required to be an eWective\\nexecutive.\\nI am arguing that doing (a) will likely result in weak performance. The reason is that she very likely has no idea how to be\\neWective with her peers. If somebody is an executive, it’s very\\nlikely that somewhere along the line somebody gave her feedback — perhaps abstractly — about all of her weaknesses. Yet\\nthe weakness remains. As a result, executives generally require\\nmore hands-on management than lower level employees to\\nimprove weak areas.\\nSo, micromanagement is like Xne wine. A little at the right times\\nwill really enhance things; too much all the time and you’ll end\\nup in rehab.\\nPart 8: Hiring, managing, promoting, and Dring execut',\n",
              "   0.468138934185663)]}"
            ]
          },
          "execution_count": 22,
          "metadata": {},
          "output_type": "execute_result"
        }
      ],
      "source": [
        "retrieval_augmented_qa_pipeline.run_pipeline(\"What is the 'Michael Eisner Memorial Weak Executive Problem'?\")"
      ]
    },
    {
      "cell_type": "markdown",
      "metadata": {},
      "source": [
        "### 🏗️ Activity #1:\n",
        "\n",
        "Enhance your RAG application in some way! \n",
        "\n",
        "Suggestions are: \n",
        "\n",
        "- Allow it to work with PDF files\n",
        "- Implement a new distance metric\n",
        "- Add metadata support to the vector database\n",
        "\n",
        "While these are suggestions, you should feel free to make whatever augmentations you desire! \n",
        "\n",
        "> NOTE: These additions might require you to work within the `aimakerspace` library - that's expected!"
      ]
    },
    {
      "cell_type": "markdown",
      "metadata": {},
      "source": [
        "## PDF RAG Example: Thai Recipe Lookups\n",
        "I am borrowing inspiration from an [PhiData example](https://github.com/phidatahq/phidata?tab=readme-ov-file#pdf-assistant-with-knowledge--storage) I experimented with a few weeks to set up RAG for this [Thai Select Cookbook](https://phi-public.s3.amazonaws.com/recipes/ThaiRecipes.pdf)."
      ]
    },
    {
      "cell_type": "code",
      "execution_count": 23,
      "metadata": {},
      "outputs": [
        {
          "name": "stdout",
          "output_type": "stream",
          "text": [
            "Requirement already satisfied: PyPDF2<3.0 in /opt/homebrew/Caskroom/miniforge/base/envs/aie/lib/python3.11/site-packages (2.12.1)\n"
          ]
        }
      ],
      "source": [
        "# need to install a PyPDF to parse PDF files. Note: 3.0 has [issues](https://github.com/camelot-dev/camelot/issues/339)\n",
        "!pip install 'PyPDF2<3.0'"
      ]
    },
    {
      "cell_type": "code",
      "execution_count": 27,
      "metadata": {},
      "outputs": [
        {
          "name": "stderr",
          "output_type": "stream",
          "text": [
            "Xref table not zero-indexed. ID numbers for objects will be corrected.\n"
          ]
        },
        {
          "name": "stdout",
          "output_type": "stream",
          "text": [
            "Loaded 28 documents into 28 split docs\n"
          ]
        }
      ],
      "source": [
        "# create a context manager for a temporary directory\n",
        "\n",
        "pdf_text_loader = TextFileLoader(\"data/yummy_thai.pdf\")\n",
        "pdf_documents = pdf_text_loader.load_documents()\n",
        "\n",
        "pdf_splitter = CharacterTextSplitter()\n",
        "pdf_split_documents = pdf_splitter.split_texts(pdf_documents)\n",
        "\n",
        "print(f\"Loaded {len(pdf_split_documents)} documents into {len(pdf_split_documents)} split docs\")\n"
      ]
    },
    {
      "cell_type": "code",
      "execution_count": 28,
      "metadata": {},
      "outputs": [],
      "source": [
        "pdf_vector_db = VectorDatabase()\n",
        "pdf_vector_db = asyncio.run(pdf_vector_db.abuild_from_list(pdf_split_documents))\n",
        "pdf_rag_qa_pipeline = RetrievalAugmentedQAPipeline(\n",
        "    vector_db_retriever=pdf_vector_db,\n",
        "    llm=chat_openai\n",
        ")"
      ]
    },
    {
      "cell_type": "code",
      "execution_count": 29,
      "metadata": {},
      "outputs": [
        {
          "data": {
            "text/plain": [
              "{'response': 'Pad Thai is a traditional Thai dish that consists of fried noodles typically served with shrimp, garlic, red pepper flakes, vegetables, and various seasonings like fish sauce, tamarind juice, and peanuts. The dish is a popular and iconic part of Thai cuisine.',\n",
              " 'context': [('chives and bean sprouts. Transfer to a serving dish and sprinkle with roasted peanuts, squeeze in fresh lime juice, and garnish \\nwith the uncooked chives and bean sprouts.\\nTips:  • Gradually add the cooking oil.\\n•Constantly check the noodles whilst cooking, if\\nthey are  still dry and hard, sprinkle with water or \\nadd more oil.Pad Thai Goong Sod\\nThai Fried Noodles with Shrimps{                             }\\nT H A I  S E L E C T  C O O K B O O K  |  0 5\\nINGREDIENTS (One serving)\\n5 peeled Thai shrimps1 tsp chopped garlic1/2 tsp red pepper flakes3 tbsp vegetable oil2 tbsp fish sauce1 tbsp tamarind juice1 tbsp finely chopped shallot1 tbsp salted turnip, \\nfinely chopped\\n1 tbsp roasted peanuts50 grams palm sugar10 grams dried shrimps50 grams firm tofu, thinly sliced150 grams thin noodles100 grams bean sprouts20 grams chives, cut in one inch\\nlengths\\n1 egg1/4 lime\\n25\\nMin',\n",
              "   0.5245756658626696),\n",
              "  ('Directions:  1. Roughly pound the garlic with bird’s eye \\nchilies in a mortar. Add long beans, roasted peanuts and \\ndried shrimps. Roughly pound the mixture again. Season with palm sugar, fish sauce and lime juice. Add shredded papaya and stir. Add cherry tomatoes. 2. Serve with fresh \\nwater morning glory tops, cabbage and long beans.\\nTips:  • To keep the papaya fresh, clean the whole fruit \\nand soak it in water for 30 minutes before  peeling.  \\nIf there is any shredded papaya left over, keep it\\nin the fridge.   \\n• A wooden mortar is recommended to keep the\\nshredded papaya in good shape. \\n• If you do not have a set of mortar and pestle, mix\\nthe ingredients in a mixing bowl and serve. \\n• Use crushed almonds or cashew nuts instead ofpeanuts in case of peanut allergy.\\n• Somtum is usually served with barbecued chicken\\nand steamed white glutinous rice.\\nHEALTH BENEFITS\\nVitamin A, B1, B2, C, E, K, Folate, Iron, Manganese, PotassiumPreparation: 20 minsCooking: 5 minsTotal: 25 minsSpicy Level: ',\n",
              "   0.4547871648912917),\n",
              "  ('Sod \\nThai Fried Noodles with Shrimps\\n07 Tom Kha Gai \\nChicken and Galangal in Coconut Milk Soup\\n09 Som TumPapaya Salad\\n11 Yum Woon Sen NeuaSpicy Beef Glass Noodles Salad\\n13 Gaeng Kiew Wan GoongGreen Curry with Shrimps\\n15 Massaman Gai Massaman Curry with Chicken and Potatoes\\n17 Tom Yum GoongSpicy Prawns Soup with Chili Paste\\n19 Gaeng Som Phak Ruam\\nSour Curry with Mixed Vegetables\\n21 Khao Niew Dam Piek Maphrao AwnBlack Glutinous Rice Pudding with Young Coconut Flesh\\n23 Gluai Buat Chi\\nBananas in Coconut MilkThai SELECT  certification identifies Tha i restaura nts that offer a t least  60 percent  authentic \\nThai foods on their menus. They a lso imply t hat these rest aurant s employ the sa me or similar \\ncooking met hods as in Tha iland, and may import  ingredient s from Thailand. The certifica tions, \\nhowever, neither ra tes foods nor endorses a ny qua lity standa rd of t he rest aurant s. They \\nmerely indica te authenticit y of the Thai foods prepared.\\nThai SELECT is given to restaurant ',\n",
              "   0.45337934077486286),\n",
              "  ('Thai SELECT Signature: Granted t o rest aurant s tha t serve a uthentic Tha i food \\nwith a t aste of premium qua lity, refined decora tion a nd excellent  service. The \\nrestaura nts bearing this symbol well present outst anding Tha i culinary image \\nand the unique character of Tha i food. \\nThai SELECT Casual: Given to Thai rest aurant s offering Thai foods with         \\nThai ta ste but ha ve limited services. They va ry from simple setups t hat are \\nsmall in siz e, offering convenience to diners such as  fast food restaurants or \\nfood outlet s at a food court, to rest aurants with limited or no seating, \\nincluding food trucks or food st alls.\\nFor a proper Thai culinary experience... \\nsimply look for the Thai SELECT logo: a sign of authentic Thai cuisine worldwide.Content\\n05 Pad Thai Goong Sod \\nThai Fried Noodles with Shrimps\\n07 Tom Kha Gai \\nChicken and Galangal in Coconut Milk Soup\\n09 Som TumPapaya Salad\\n11 Yum Woon Sen NeuaSpicy Beef Glass Noodles Salad\\n13 Gaeng Kiew Wan GoongGreen Cu',\n",
              "   0.445581841268355)]}"
            ]
          },
          "execution_count": 29,
          "metadata": {},
          "output_type": "execute_result"
        }
      ],
      "source": [
        "pdf_rag_qa_pipeline.run_pipeline(\"What is pad thai?\")"
      ]
    },
    {
      "cell_type": "code",
      "execution_count": 30,
      "metadata": {},
      "outputs": [
        {
          "data": {
            "text/plain": [
              "{'response': 'Three Thai dishes that contain noodles are:\\n1. Pad Thai Goong Sod - Thai Fried Noodles with Shrimps\\n2. Yum Woon Sen Neua - Spicy Beef Glass Noodles Salad\\n3. Tom Yum Goong - Spicy Prawns Soup with Chili Paste\\n\\nTherefore, the 3 Thai dishes that contain noodles are Pad Thai Goong Sod, Yum Woon Sen Neua, and Tom Yum Goong.',\n",
              " 'context': [('Sod \\nThai Fried Noodles with Shrimps\\n07 Tom Kha Gai \\nChicken and Galangal in Coconut Milk Soup\\n09 Som TumPapaya Salad\\n11 Yum Woon Sen NeuaSpicy Beef Glass Noodles Salad\\n13 Gaeng Kiew Wan GoongGreen Curry with Shrimps\\n15 Massaman Gai Massaman Curry with Chicken and Potatoes\\n17 Tom Yum GoongSpicy Prawns Soup with Chili Paste\\n19 Gaeng Som Phak Ruam\\nSour Curry with Mixed Vegetables\\n21 Khao Niew Dam Piek Maphrao AwnBlack Glutinous Rice Pudding with Young Coconut Flesh\\n23 Gluai Buat Chi\\nBananas in Coconut MilkThai SELECT  certification identifies Tha i restaura nts that offer a t least  60 percent  authentic \\nThai foods on their menus. They a lso imply t hat these rest aurant s employ the sa me or similar \\ncooking met hods as in Tha iland, and may import  ingredient s from Thailand. The certifica tions, \\nhowever, neither ra tes foods nor endorses a ny qua lity standa rd of t he rest aurant s. They \\nmerely indica te authenticit y of the Thai foods prepared.\\nThai SELECT is given to restaurant ',\n",
              "   0.5600692474660431),\n",
              "  ('chives and bean sprouts. Transfer to a serving dish and sprinkle with roasted peanuts, squeeze in fresh lime juice, and garnish \\nwith the uncooked chives and bean sprouts.\\nTips:  • Gradually add the cooking oil.\\n•Constantly check the noodles whilst cooking, if\\nthey are  still dry and hard, sprinkle with water or \\nadd more oil.Pad Thai Goong Sod\\nThai Fried Noodles with Shrimps{                             }\\nT H A I  S E L E C T  C O O K B O O K  |  0 5\\nINGREDIENTS (One serving)\\n5 peeled Thai shrimps1 tsp chopped garlic1/2 tsp red pepper flakes3 tbsp vegetable oil2 tbsp fish sauce1 tbsp tamarind juice1 tbsp finely chopped shallot1 tbsp salted turnip, \\nfinely chopped\\n1 tbsp roasted peanuts50 grams palm sugar10 grams dried shrimps50 grams firm tofu, thinly sliced150 grams thin noodles100 grams bean sprouts20 grams chives, cut in one inch\\nlengths\\n1 egg1/4 lime\\n25\\nMin',\n",
              "   0.5599043029176752),\n",
              "  ('peanuts may be added as desired. INGREDIENTS (One serving)\\n200 grams  cooked glass noodles \\n100  grams grilled beef20 grams dried shrimps, fried\\n until crispy\\n4 cloves garlic, minced 1 onion, julienned2-3 Thai chilies, sliced\\n thinly\\n2 stalks Thai celery, chopped 2 tbsp fish sauce2 tbsp lime juice5 cherry tomatoes, \\nhalved\\n1 tbsp chopped coriander4 tsp chicken stock5 leaves coriander\\nHEALTH BENEFITSVitamin A, B1, B2, B6,C, K, Folate, Calcium,Iron, PotassiumPreparation: 20 minsCooking: 10 minsTotal: 30 minsSpicy Level: {                            }Yum Woon Sen Neua\\nSpicy Beef Glass Noodles Salad\\nT H A I  S E L E C T  C O O K B O O K  |  1 130\\nMin',\n",
              "   0.5347575752486693),\n",
              "  ('INGREDIENTS (One serving)\\n3 peeled Thai prawns 300 grams chicken or vegetable\\n stock\\n100 grams straw mushrooms 100 grams lightly crushed  \\nlemongrass, chopped\\n into one inch pieces\\n2 grams coriander roots2 tbsp fish sauce2 tbsp lime juice3 leaves kaffir lime, shredded 1-2 lightly crushed bird’s\\n eye chilies\\n5 leaves coriander1 tbsp chili paste100 grams evaporated milk\\nHEALTH BENEFITSVitamin A, B1, B2, C, E,K,  Folate, Calcium, Iron, Phosphorus, ZincPreparation: 20 minsCooking: 20 minsTotal: 40 minsSpicy Level: Directions:  1. Boil the stock and add lemongrass and \\ncoriander roots. Continue boiling for a few minutes. \\n2.Sieve out the ingredients. Bring the stock back to a\\nboil and add straw mushrooms. 3. Add prawns and wait \\nuntil it returns to a full boil, then add fish sauce and kaffir lime leaves. 4. Add lime juice and chilies. Serve \\nTom Yum Goong in a bowl. Garnish with coriander leaves (mix with chili paste and evaporated milk as an alterna-tive of Tom Yum Num Khon). \\nTips:   • Fi',\n",
              "   0.5269319923174641)]}"
            ]
          },
          "execution_count": 30,
          "metadata": {},
          "output_type": "execute_result"
        }
      ],
      "source": [
        "pdf_rag_qa_pipeline.run_pipeline(\"What are 3 thai dishes that contain noodles?\")"
      ]
    },
    {
      "cell_type": "code",
      "execution_count": 32,
      "metadata": {},
      "outputs": [
        {
          "data": {
            "text/plain": [
              "{'response': 'Popular Thai soups include Tom Kha Gai (Chicken and Galangal in Coconut Milk Soup), Tom Yum Goong (Spicy Prawns Soup with Chili Paste), and Gaeng Som (Sour Curry with Mixed Vegetables).',\n",
              " 'context': [('Sod \\nThai Fried Noodles with Shrimps\\n07 Tom Kha Gai \\nChicken and Galangal in Coconut Milk Soup\\n09 Som TumPapaya Salad\\n11 Yum Woon Sen NeuaSpicy Beef Glass Noodles Salad\\n13 Gaeng Kiew Wan GoongGreen Curry with Shrimps\\n15 Massaman Gai Massaman Curry with Chicken and Potatoes\\n17 Tom Yum GoongSpicy Prawns Soup with Chili Paste\\n19 Gaeng Som Phak Ruam\\nSour Curry with Mixed Vegetables\\n21 Khao Niew Dam Piek Maphrao AwnBlack Glutinous Rice Pudding with Young Coconut Flesh\\n23 Gluai Buat Chi\\nBananas in Coconut MilkThai SELECT  certification identifies Tha i restaura nts that offer a t least  60 percent  authentic \\nThai foods on their menus. They a lso imply t hat these rest aurant s employ the sa me or similar \\ncooking met hods as in Tha iland, and may import  ingredient s from Thailand. The certifica tions, \\nhowever, neither ra tes foods nor endorses a ny qua lity standa rd of t he rest aurant s. They \\nmerely indica te authenticit y of the Thai foods prepared.\\nThai SELECT is given to restaurant ',\n",
              "   0.5686058543550513),\n",
              "  ('me leaves. 4. Add lime juice and chilies. Serve \\nTom Yum Goong in a bowl. Garnish with coriander leaves (mix with chili paste and evaporated milk as an alterna-tive of Tom Yum Num Khon). \\nTips:   • Fish sauce becomes aromatic only when it is \\nadded to the boiling soup. \\n• Lime juice becomes aromatic only when it is\\nadded after the soup is removed from heat.Tom Yum Goong\\nSpicy Prawns Soup with Chili Paste{                      }\\nT H A I  S E L E C T  C O O K B O O K  |  1 7\\n40\\nMin',\n",
              "   0.557720182196908),\n",
              "  ('ed. 4.Add shrimps and cook briefly.\\nTips:  • As an alternative, shrimp can be replaced with fish.\\n• Seafood cooks quite quickly thus shrimp and fish\\nshould be in the boiling soup only briefly, andthen whisked out and served to keep it freshand juicy.\\n•Prepare the drier, tougher ingredients first, likecauliflower and long beans, followed by leafyvegetables like cabbage.Gaeng Som Phak Ruam\\nSour Curry with Mixed Vegetables{                              }\\nT H A I  S E L E C T  C O O K B O O K  |  1 9\\n45\\nMin',\n",
              "   0.5168851817862471),\n",
              "  ('Preparation: 15 mins\\nCooking: 30 minsTotal: 45 minsSpicy Level: HEALTH BENEFITSVitamin A, B1, B2, B6, C, K, Folate, Calcium, Iron, Manganese, Omega 3INGREDIENTS (One serving)5 peeled Thai shrimps80 grams long beans, chopped\\n into one inch pieces\\n80 grams cauliflower, cut into  \\n bite size pieces\\n100 grams cabbage, chopped\\n two inch cubes\\n40 grams Gaeng Som paste500 grams vegetable stock or  \\nwater\\n4 tbsp tamarind juice15 grams palm sugar2 tbsp fish sauceDirections:  1. Clean the shrimps thoroughly and devein \\nthem. Bring the vegetable stock (or water) to a boil and \\nadd Gaeng Som paste. 2. When the soup returns to a full \\nboil, add vegetables in this order: cauliflower, long beans and cabbage. 3. Season with palm sugar, tamarind juice \\nand fish sauce, making sure everything is well dissolved. 4.Add shrimps and cook briefly.\\nTips:  • As an alternative, shrimp can be replaced with fish.\\n• Seafood cooks quite quickly thus shrimp and fish\\nshould be in the boiling soup only briefly, andthen',\n",
              "   0.5115191415750447)]}"
            ]
          },
          "execution_count": 32,
          "metadata": {},
          "output_type": "execute_result"
        }
      ],
      "source": [
        "pdf_rag_qa_pipeline.run_pipeline(\"List popular thai soups\")"
      ]
    },
    {
      "cell_type": "code",
      "execution_count": 33,
      "metadata": {},
      "outputs": [
        {
          "data": {
            "text/plain": [
              "{'response': \"I don't know.\",\n",
              " 'context': [('ed. 4.Add shrimps and cook briefly.\\nTips:  • As an alternative, shrimp can be replaced with fish.\\n• Seafood cooks quite quickly thus shrimp and fish\\nshould be in the boiling soup only briefly, andthen whisked out and served to keep it freshand juicy.\\n•Prepare the drier, tougher ingredients first, likecauliflower and long beans, followed by leafyvegetables like cabbage.Gaeng Som Phak Ruam\\nSour Curry with Mixed Vegetables{                              }\\nT H A I  S E L E C T  C O O K B O O K  |  1 9\\n45\\nMin',\n",
              "   0.3753390648838323),\n",
              "  ('me leaves. 4. Add lime juice and chilies. Serve \\nTom Yum Goong in a bowl. Garnish with coriander leaves (mix with chili paste and evaporated milk as an alterna-tive of Tom Yum Num Khon). \\nTips:   • Fish sauce becomes aromatic only when it is \\nadded to the boiling soup. \\n• Lime juice becomes aromatic only when it is\\nadded after the soup is removed from heat.Tom Yum Goong\\nSpicy Prawns Soup with Chili Paste{                      }\\nT H A I  S E L E C T  C O O K B O O K  |  1 7\\n40\\nMin',\n",
              "   0.3643321693495715),\n",
              "  ('the pot and continue simmering until the mix starts to dry out. Then add chicken and the remaining coconut milk. 3. Add \\nthe chicken stock and keep simmering until it comes to a boil. 4. Add roasted peanuts, potatoes and simmer until \\nthe chicken is tender. 5. When the potatoes are cooked, \\nseason with fish sauce, palm sugar and tamarind juice. Add onion and cook through until the soup begins to dry out. Serve in a bowl.\\nTips:  • To make tamarind juice, mix 1 portion of the\\n tamarind with 3 to 3.5 portions of water. \\n• Different brands of instant tamarind juice have\\ndifferent flavors and levels of sourness.\\nT H A I  S E L E C T  C O O K B O O K  |  1 545\\nMin',\n",
              "   0.363778134400042),\n",
              "  ('Sod \\nThai Fried Noodles with Shrimps\\n07 Tom Kha Gai \\nChicken and Galangal in Coconut Milk Soup\\n09 Som TumPapaya Salad\\n11 Yum Woon Sen NeuaSpicy Beef Glass Noodles Salad\\n13 Gaeng Kiew Wan GoongGreen Curry with Shrimps\\n15 Massaman Gai Massaman Curry with Chicken and Potatoes\\n17 Tom Yum GoongSpicy Prawns Soup with Chili Paste\\n19 Gaeng Som Phak Ruam\\nSour Curry with Mixed Vegetables\\n21 Khao Niew Dam Piek Maphrao AwnBlack Glutinous Rice Pudding with Young Coconut Flesh\\n23 Gluai Buat Chi\\nBananas in Coconut MilkThai SELECT  certification identifies Tha i restaura nts that offer a t least  60 percent  authentic \\nThai foods on their menus. They a lso imply t hat these rest aurant s employ the sa me or similar \\ncooking met hods as in Tha iland, and may import  ingredient s from Thailand. The certifica tions, \\nhowever, neither ra tes foods nor endorses a ny qua lity standa rd of t he rest aurant s. They \\nmerely indica te authenticit y of the Thai foods prepared.\\nThai SELECT is given to restaurant ',\n",
              "   0.3527478611496579)]}"
            ]
          },
          "execution_count": 33,
          "metadata": {},
          "output_type": "execute_result"
        }
      ],
      "source": [
        "pdf_rag_qa_pipeline.run_pipeline(\"List popular soups\")"
      ]
    },
    {
      "cell_type": "markdown",
      "metadata": {
        "id": "8QqpYXj2R6yz"
      },
      "source": [
        "## Task 6: Visibility Tooling\n",
        "\n",
        "This is great, but what if we wanted to add some visibility to our pipeline?\n",
        "\n",
        "Let's use Weights and Biases as a visibility tool!\n",
        "\n",
        "The first thing we'll need to do is create a Weights and Biases account and get an API key.\n",
        "\n",
        "You can follow the process outlined [here](https://docs.wandb.ai/quickstart) to do exactly that!"
      ]
    },
    {
      "cell_type": "markdown",
      "metadata": {
        "id": "2nST5OrAR6yz"
      },
      "source": [
        "Now we can get the Weights and Biases dependency and add our key to our env. to begin!"
      ]
    },
    {
      "cell_type": "code",
      "execution_count": 34,
      "metadata": {
        "colab": {
          "base_uri": "https://localhost:8080/"
        },
        "id": "y54bofQQR6yz",
        "outputId": "6df38604-c2e0-4870-d5de-db165ea830ba"
      },
      "outputs": [],
      "source": [
        "!pip install -qU wandb"
      ]
    },
    {
      "cell_type": "code",
      "execution_count": 35,
      "metadata": {
        "colab": {
          "base_uri": "https://localhost:8080/"
        },
        "id": "SzunMw9_R6yz",
        "outputId": "f2506283-6b0d-4a1b-cb5a-65839c6445b1"
      },
      "outputs": [],
      "source": [
        "wandb_key = getpass(\"Weights and Biases API Key: \")\n",
        "os.environ[\"WANDB_API_KEY\"] = wandb_key"
      ]
    },
    {
      "cell_type": "code",
      "execution_count": 36,
      "metadata": {
        "colab": {
          "base_uri": "https://localhost:8080/",
          "height": 143
        },
        "id": "Iv1f27ebR6yz",
        "outputId": "34dd085e-0468-4657-d105-71ecc4b633fe"
      },
      "outputs": [
        {
          "name": "stderr",
          "output_type": "stream",
          "text": [
            "Failed to detect the name of this notebook, you can set it manually with the WANDB_NOTEBOOK_NAME environment variable to enable code saving.\n",
            "\u001b[34m\u001b[1mwandb\u001b[0m: Currently logged in as: \u001b[33mravi77o\u001b[0m (\u001b[33mravi-ai-bootcamp\u001b[0m). Use \u001b[1m`wandb login --relogin`\u001b[0m to force relogin\n"
          ]
        },
        {
          "data": {
            "text/html": [
              "Tracking run with wandb version 0.17.1"
            ],
            "text/plain": [
              "<IPython.core.display.HTML object>"
            ]
          },
          "metadata": {},
          "output_type": "display_data"
        },
        {
          "data": {
            "text/html": [
              "Run data is saved locally in <code>/Users/ravithinakkal/repos/AI-Engineering-3/Week 2/Day 1/wandb/run-20240610_234953-vekydnj3</code>"
            ],
            "text/plain": [
              "<IPython.core.display.HTML object>"
            ]
          },
          "metadata": {},
          "output_type": "display_data"
        },
        {
          "data": {
            "text/html": [
              "Syncing run <strong><a href='https://wandb.ai/ravi-ai-bootcamp/Visibility%20Example%20-%20AIE3/runs/vekydnj3' target=\"_blank\">stellar-hill-2</a></strong> to <a href='https://wandb.ai/ravi-ai-bootcamp/Visibility%20Example%20-%20AIE3' target=\"_blank\">Weights & Biases</a> (<a href='https://wandb.me/run' target=\"_blank\">docs</a>)<br/>"
            ],
            "text/plain": [
              "<IPython.core.display.HTML object>"
            ]
          },
          "metadata": {},
          "output_type": "display_data"
        },
        {
          "data": {
            "text/html": [
              " View project at <a href='https://wandb.ai/ravi-ai-bootcamp/Visibility%20Example%20-%20AIE3' target=\"_blank\">https://wandb.ai/ravi-ai-bootcamp/Visibility%20Example%20-%20AIE3</a>"
            ],
            "text/plain": [
              "<IPython.core.display.HTML object>"
            ]
          },
          "metadata": {},
          "output_type": "display_data"
        },
        {
          "data": {
            "text/html": [
              " View run at <a href='https://wandb.ai/ravi-ai-bootcamp/Visibility%20Example%20-%20AIE3/runs/vekydnj3' target=\"_blank\">https://wandb.ai/ravi-ai-bootcamp/Visibility%20Example%20-%20AIE3/runs/vekydnj3</a>"
            ],
            "text/plain": [
              "<IPython.core.display.HTML object>"
            ]
          },
          "metadata": {},
          "output_type": "display_data"
        },
        {
          "data": {
            "text/html": [
              "<button onClick=\"this.nextSibling.style.display='block';this.style.display='none';\">Display W&B run</button><iframe src='https://wandb.ai/ravi-ai-bootcamp/Visibility%20Example%20-%20AIE3/runs/vekydnj3?jupyter=true' style='border:none;width:100%;height:420px;display:none;'></iframe>"
            ],
            "text/plain": [
              "<wandb.sdk.wandb_run.Run at 0x140125010>"
            ]
          },
          "execution_count": 36,
          "metadata": {},
          "output_type": "execute_result"
        }
      ],
      "source": [
        "import wandb\n",
        "\n",
        "wandb.init(project=\"Visibility Example - AIE3\")"
      ]
    },
    {
      "cell_type": "markdown",
      "metadata": {
        "id": "iezOc48XR6yz"
      },
      "source": [
        "Now we can integrate Weights and Biases into our `RetrievalAugmentedQAPipeline`.\n",
        "\n",
        "```python\n",
        "if self.wandb_project:\n",
        "            root_span = Trace(\n",
        "                name=\"root_span\",\n",
        "                kind=\"llm\",\n",
        "                status_code=status,\n",
        "                status_message=status_message,\n",
        "                start_time_ms=start_time,\n",
        "                end_time_ms=end_time,\n",
        "                metadata={\n",
        "                    \"token_usage\" : token_usage\n",
        "                },\n",
        "                inputs= {\"system_prompt\" : formatted_system_prompt, \"user_prompt\" : formatted_user_prompt},\n",
        "                outputs= {\"response\" : response_text}\n",
        "            )\n",
        "\n",
        "            root_span.log(name=\"openai_trace\")\n",
        "```\n",
        "\n",
        "The main things to consider here are how to populate the various fields to make sure we're tracking useful information.\n",
        "\n",
        "We'll use the `text_only` flag to ensure we can get detailed information about our LLM call!\n",
        "\n",
        "You can check out all the parameters for Weights and Biases `Trace` [here](https://github.com/wandb/wandb/blob/653015a014281f45770aaf43627f64d9c4f04a32/wandb/sdk/data_types/trace_tree.py#L166)"
      ]
    },
    {
      "cell_type": "code",
      "execution_count": 37,
      "metadata": {
        "id": "fqe4D27QR6yz"
      },
      "outputs": [],
      "source": [
        "import datetime\n",
        "from wandb.sdk.data_types.trace_tree import Trace\n",
        "\n",
        "class RetrievalAugmentedGenerationPipeline:\n",
        "    def __init__(self, llm: ChatOpenAI(), vector_db_retriever: VectorDatabase, wandb_project = None) -> None:\n",
        "        self.llm = llm\n",
        "        self.vector_db_retriever = vector_db_retriever\n",
        "        self.wandb_project = wandb_project\n",
        "\n",
        "    def run_pipeline(self, user_query: str) -> str:\n",
        "        context_list = self.vector_db_retriever.search_by_text(user_query, k=4)\n",
        "\n",
        "        context_prompt = \"\"\n",
        "        for context in context_list:\n",
        "            context_prompt += context[0] + \"\\n\"\n",
        "\n",
        "        formatted_system_prompt = rag_prompt.create_message()\n",
        "\n",
        "        formatted_user_prompt = user_prompt.create_message(user_query=user_query, context=context_prompt)\n",
        "\n",
        "\n",
        "        start_time = datetime.datetime.now().timestamp() * 1000\n",
        "\n",
        "        try:\n",
        "            openai_response = self.llm.run([formatted_system_prompt, formatted_user_prompt], text_only=False)\n",
        "            end_time = datetime.datetime.now().timestamp() * 1000\n",
        "            status = \"success\"\n",
        "            status_message = (None, )\n",
        "            response_text = openai_response.choices[0].message.content\n",
        "            token_usage = dict(openai_response.usage)\n",
        "            model = openai_response.model\n",
        "\n",
        "        except Exception as e:\n",
        "            end_time = datetime.datetime.now().timestamp() * 1000\n",
        "            status = \"error\"\n",
        "            status_message = str(e)\n",
        "            response_text = \"\"\n",
        "            token_usage = {}\n",
        "            model = \"\"\n",
        "\n",
        "        if self.wandb_project:\n",
        "            root_span = Trace(\n",
        "                name=\"root_span\",\n",
        "                kind=\"llm\",\n",
        "                status_code=status,\n",
        "                status_message=status_message,\n",
        "                start_time_ms=start_time,\n",
        "                end_time_ms=end_time,\n",
        "                metadata={\n",
        "                    \"token_usage\" : token_usage,\n",
        "                    \"model_name\" : model\n",
        "                },\n",
        "                inputs= {\"system_prompt\" : formatted_system_prompt, \"user_prompt\" : formatted_user_prompt},\n",
        "                outputs= {\"response\" : response_text}\n",
        "            )\n",
        "\n",
        "            root_span.log(name=\"openai_trace\")\n",
        "\n",
        "        return {\"response\" : self.llm.run([formatted_user_prompt, formatted_system_prompt]), \"context\" : context_list} if response_text else \"We ran into an error. Please try again later. Full Error Message: \" + status_message"
      ]
    },
    {
      "cell_type": "code",
      "execution_count": 38,
      "metadata": {
        "id": "aa1_0P1YR6yz"
      },
      "outputs": [],
      "source": [
        "retrieval_augmented_qa_pipeline = RetrievalAugmentedGenerationPipeline(\n",
        "    vector_db_retriever=vector_db,\n",
        "    llm=chat_openai,\n",
        "    wandb_project=\"LLM Visibility Example\"\n",
        ")"
      ]
    },
    {
      "cell_type": "code",
      "execution_count": 39,
      "metadata": {
        "colab": {
          "base_uri": "https://localhost:8080/"
        },
        "id": "OKSpyeg-R6yz",
        "outputId": "0d6358c9-4775-4734-f49d-851814de37c5"
      },
      "outputs": [
        {
          "data": {
            "text/plain": [
              "{'response': \"I don't know\",\n",
              " 'context': [(\"e Xction\\nwith a distinctive horror overlay. Not for the squeamish, but\\nhighly inventive.\\nAsher’s primary work is the Polity series — Gridlinked, The\\nLine of Polity, Brass Man, and Polity Agent. The extended\\nstory of an enigmatic agent for the all-powerful artiXcial intelligences who rule the whole of human space, the Polity, these\\nnovels blend Ian Fleming with large-scale military combat,\\nadvanced theoretical xenobiology, nanotechnology gone badly\\nwrong, and war drones with bad attitudes. Most deXnitely entertaining.\\nFollow those up with The Skinner and The Voyage of the Sable\\nKeech, and then the delectable standalone novella Prador\\nMoon. One of the most distinctively imagined “bad bug” alien\\nraces, one of the most creative and lethal new worlds, and a historical scandal of horriXc proportions combine in a whirlwind\\nof violence and battle.\\nTop 10 science Dction novelists of the '00s ... so far (June 2007) 177\\nAsher is blogging as well!\\nChris Moriarty\\nGibson meets Heinlein (can you tell\",\n",
              "   0.1763749780880241),\n",
              "  (' Tendency\\nThe brain of man is programmed with a tendency to quickly\\nremove doubt by reaching some decision.\\nIt is easy to see how evolution would make animals, over the eons,\\ndria toward such quick elimination of doubt. Aaer all, the one\\nthing that is surely counterproductive for a prey animal that is\\nthreatened by a predator is to take a long time in deciding what to\\ndo…\\nSo pronounced is the tendency in man to quickly remove doubt\\nby reaching some decision that behavior to counter the tendency is\\nrequired from judges and jurors. Here, delay before decision making is forced. And one is required to so comport himself, prior to\\nconclusion time, so that he is wearing a “mask” of objectivity. And\\nthe “mask” works to help real objectivity along, as we shall see when\\nwe next consider man’s Inconsistency-Avoidance Tendency…\\nWhat triggers Doubt-Avoidance Tendency? Well, an unthreatened\\nman, thinking of nothing in particular, is not being prompted to\\nremove doubt through rushing to some decisio',\n",
              "   0.16625088832238252),\n",
              "  (\"ions combine in a whirlwind\\nof violence and battle.\\nTop 10 science Dction novelists of the '00s ... so far (June 2007) 177\\nAsher is blogging as well!\\nChris Moriarty\\nGibson meets Heinlein (can you tell I was a Heinlein fan growing up?) in a melange of science Xction themes, most particularly artiXcial intelligence, Xltered through a distinctly female\\npoint of view. A rapidly developing talent worth reading, and\\nwatching for future advances.\\nRead Spin State and then read Spin Control.\\nPeter Watts\\nWatts’ Xah novel, Blindsight, has put him on the map — a new\\ntale of alien contact, as conducted by a team of entitites from a\\nfuture Earth that will send a chill down your spine without even\\ngetting to the alien part.\\nDavid Marusek\\nMy last and Xnal entry of the top 10 is the one I am least certain\\nabout. Marusek is oW the charts in terms of creativity and inventiveness — in his debut novel, Counting Heads, he extrapolates\\nwith incredible verve and detail an Earth circa 2134 that is a\\nnear-utopi\",\n",
              "   0.164866651859399),\n",
              "  ('how the kids mean it, and also in tone — the plot, which\\nspans about 100 years, is emotionally cold but amazingly inventive and highly likely to keep you up nights thinking hard about\\nwhere we’re all headed in the long run.\\nThe Atrocity Archives and The Jennifer Morgue, in contrast,\\nare highly entertaining shaggy dog stories about an IT guy\\nnamed Bob who gets draaed into mankind’s Xght against forces\\nof evil from another dimension — James Bond meets Call of\\nCthulhu meets The OZce.\\nFinally, Stross is also an active blogger with, let’s say, strong\\npoints of view.\\nRichard Morgan\\nMorgan writes outstanding, page-turning, highly inventive military- and detective-Yavored hard science Xction set in turbulent\\nworlds where hard men are faced with hard challenges.\\nAltered Carbon is deXnitely the place to start, Morgan’s Xrst and\\nperhaps most inventive novel, Robert Heinlein meets Raymond\\nChandler — and Xrst of a trio.\\n174 The Pmarca Blog Archives\\nBroken Angels is a strong followup that tilts more',\n",
              "   0.16047925637290927)]}"
            ]
          },
          "execution_count": 39,
          "metadata": {},
          "output_type": "execute_result"
        }
      ],
      "source": [
        "retrieval_augmented_qa_pipeline.run_pipeline(\"Who is Batman?\")"
      ]
    },
    {
      "cell_type": "code",
      "execution_count": 40,
      "metadata": {
        "colab": {
          "base_uri": "https://localhost:8080/"
        },
        "id": "SbB0xcCRR6yz",
        "outputId": "7ba2fc10-abbe-40ec-eca8-22e1116300a5"
      },
      "outputs": [
        {
          "data": {
            "text/plain": [
              "{'response': 'Based on the provided context, here are some tips for being an effective CEO:\\n\\n1. Nuke the underperforming managers and promote the top 20 or 30 up-and-coming directors or VP-level managers who are strong, sharp, aggressive, and ambitious.\\n2. Put these top managers in charge of clearly identified teams and missions.\\n3. Maintain a maximum of one executive layer between you as CEO and these top managers.\\n4. Figure out the single most important thing your company needs to win at and put your best person in charge of achieving success in that area.\\n5. Use incentives effectively, such as stock option packages, to motivate performance and transparency to clearly highlight top performers and poor performers for necessary actions.\\n6. Avoid micromanaging and let the executives you hire do their job.\\n7. When hiring outside executives, pay attention to the incentives you provide to ensure alignment with company goals.\\n8. Focus on hiring the best people by valuing criteria like intelligence, adaptability, and competence.\\n9. Ensure a smooth hiring process and be prepared to handle the aftermath of any hiring mistakes.\\n\\nRemember, these tips are based on the context provided and may vary based on individual circumstances and company dynamics.',\n",
              " 'context': [(' management. Nuke as many of them as you can.\\nThen develop a list of your top 20 or 30 up and comers —\\nstrong, sharp, aggressive, ambitious director- or VP-level managers who want to succeed and want your company to succeed.\\nAnd promote them, and put them in sole charge of clearly identiXed teams and missions. (And give them big ol’ fresh option\\npackages.)\\nAs CEO, you should only have at most one executive between\\nyou and these 20 or 30 up and comers once you are done promoting them and putting them in charge of their teams and\\nmissions.\\nIf you don’t know who those top 20 or 30 up and comers are, if\\nyou don’t promote them, if you don’t put them clearly in charge\\nof the things that matter, or if you have more than one layer of\\n84 The Pmarca Blog Archives\\nmanagement between you and them when you’re done, you’re\\nprobably doomed.\\nStep 7: Figure out the single most important thing your company has\\nto win at, and put your single best person in charge of winning at it.\\n‘NuW said.\\nStep 8: Look',\n",
              "   0.5593874691206213),\n",
              "  ('sure can be a very\\neWective form of incentive. This is greatly enabled and abetted\\nby transparency. People hate to be embarrassed in front of their\\npeer group, so if it’s crystal clear who’s performing well and who\\nisn’t, poor performers will be highly motivated to improve —\\nand if they’re not, that’s good to know, since obviously then you\\nreally need to Xre them.\\nFinally, any entrepreneur should be highly attuned to incentives\\nwhen hiring outside executives, especially a CEO. Hire a CEO\\nand give her a large stock-option grant with four-year vesting,\\nand you can guarantee she will sell the company in year four.\\nGive her a stock-option grant with accelerated vesting on\\nchange of control and she will sell the company sooner than\\nthat. Founders can get tripped up on this because they naturally\\nhave an emotional incentive to see the company succeed that\\nhired executives oaen do not share.\\nAnd of course, never get caught between a venture capitalist and\\nher incentives.\\nTwo: Liking/Loving Te',\n",
              "   0.5451803355623861),\n",
              "  (\"s.\\nSo, micromanagement is like Xne wine. A little at the right times\\nwill really enhance things; too much all the time and you’ll end\\nup in rehab.\\nPart 8: Hiring, managing, promoting, and Dring executives 67\\nPart 9: How to hire a professional\\nCEO\\nDon’t.\\nIf you don’t have anyone on your founding team who is capable\\nof being CEO, then sell your company — now.\\nHow to hire the best people you've\\never worked with\\nThere are many aspects to hiring great people, and various people smarter than me have written extensively on the topic.\\nSo I’m not going to try to be comprehensive.\\nBut I am going to relay some lessons learned through hard\\nexperience on how to hire the best people you’ve ever worked\\nwith — particularly for a startup.\\nI’m going to cover two key areas in this post:\\n• Criteria: what to value when evaluating candidates.\\n• And process: how to actually run the hiring process, and if\\nnecessary the aaermath of making a mistake.\\nCriteria 7rst\\nLots of people will tell you to hire for intell\",\n",
              "   0.5368027728369653),\n",
              "  ('. Don’t micromanage.\\nThe whole point of having an executive is to have someone who\\n60 The Pmarca Blog Archives\\ncan Xgure out how to build and run an organization so that you\\ndon’t have to. Manage her, understand what she is doing, be\\nvery clear on the results you expect, but let her do the job.\\nHere’s the key corollary to that: if you want to give an executive full\\nlatitude, but you’re reluctant to do so because you’re not sure she can\\nmake it happen, then it’s probably time to Fre her.\\nIn my experience it’s not that uncommon for a founder or CEO\\nto be uncomfortable — sometimes only at a gut level — at really\\ngiving an executive the latitude to run with the ball. That is a\\nsureXre signal that the executive is not working out and probably needs to be Xred. More on that below.\\nThird, ruthlessly violate the chain of command in order to gather data.\\nI don’t mean going around telling people under an executive\\nwhat to do without her knowing about it. I mean, ask questions,\\ncontinually, at al',\n",
              "   0.516114291316211)]}"
            ]
          },
          "execution_count": 40,
          "metadata": {},
          "output_type": "execute_result"
        }
      ],
      "source": [
        "retrieval_augmented_qa_pipeline.run_pipeline(\"What are some tips for being an effective CEO?\")"
      ]
    },
    {
      "cell_type": "markdown",
      "metadata": {
        "id": "QAkIW2qRR6yz"
      },
      "source": [
        "Navigate to the Weights and Biases \"run\" link to see how your LLM is performing!\n",
        "\n",
        "https://wandb.ai/ravi-ai-bootcamp/Visibility%20Example%20-%20AIE3/runs/j8f5unhx?nw=nwuserravi77o"
      ]
    },
    {
      "cell_type": "markdown",
      "metadata": {
        "id": "sInZ32BoR6yz"
      },
      "source": [
        "#### ❓ Question #5:\n",
        "\n",
        "What is the `model_name` from the WandB `root_span` trace?\n",
        "\n",
        "`gpt-3.5-turbo-0125`"
      ]
    },
    {
      "cell_type": "markdown",
      "metadata": {
        "id": "Of8wJGalR6yz"
      },
      "source": [
        "## Task 7: RAG Evaluation Using GPT-4\n",
        "\n"
      ]
    },
    {
      "cell_type": "code",
      "execution_count": 41,
      "metadata": {
        "colab": {
          "base_uri": "https://localhost:8080/",
          "height": 330
        },
        "id": "PRNzzMurR6yz",
        "outputId": "0dcaf542-530c-480d-9dc6-a2931e8557e2"
      },
      "outputs": [
        {
          "name": "stdout",
          "output_type": "stream",
          "text": [
            "Based on the context provided, here are some tips for being an effective CEO:\n",
            "\n",
            "1. Nuke underperforming management: Remove ineffective managers and promote ambitious and talented individuals who can drive the company's success.\n",
            "2. Put top performers in charge: Identify your top 20 or 30 up-and-coming managers and give them clear leadership roles and missions.\n",
            "3. Focus on the most important goal: Identify the single most important thing your company needs to win at and assign your best person to lead it.\n",
            "4. Use incentives wisely: Incentivize performance through transparent recognition and rewards to motivate employees to excel.\n",
            "5. Avoid micromanaging: Trust your executives to carry out their roles effectively and provide guidance and support rather than constant oversight.\n",
            "\n",
            "These tips can help guide you in becoming an effective CEO in a competitive business environment.\n"
          ]
        },
        {
          "data": {
            "text/plain": [
              "'{\"clarity\":\"9\", \"faithfulness\":\"10\", \"correctness\":\"10\"}'"
            ]
          },
          "execution_count": 41,
          "metadata": {},
          "output_type": "execute_result"
        }
      ],
      "source": [
        "query = \"What are some tips for being an effective CEO?\"\n",
        "\n",
        "response = retrieval_augmented_qa_pipeline.run_pipeline(query)\n",
        "\n",
        "print(response[\"response\"])\n",
        "\n",
        "evaluator_system_template = \"\"\"You are an expert in analyzing the quality of a response.\n",
        "\n",
        "You should be hyper-critical.\n",
        "\n",
        "Provide scores (out of 10) for the following attributes:\n",
        "\n",
        "1. Clarity - how clear is the response\n",
        "2. Faithfulness - how related to the original query is the response and the provided context\n",
        "3. Correctness - was the response correct?\n",
        "\n",
        "Please take your time, and think through each item step-by-step, when you are done - please provide your response in the following JSON format:\n",
        "\n",
        "{\"clarity\" : \"score_out_of_10\", \"faithfulness\" : \"score_out_of_10\", \"correctness\" : \"score_out_of_10\"}\"\"\"\n",
        "\n",
        "evaluation_template = \"\"\"Query: {input}\n",
        "Context: {context}\n",
        "Response: {response}\"\"\"\n",
        "\n",
        "try:\n",
        "    chat_openai = ChatOpenAI(model_name=\"gpt-4-turbo\")\n",
        "except:\n",
        "    chat_openai = ChatOpenAI()\n",
        "\n",
        "evaluator_system_prompt = SystemRolePrompt(evaluator_system_template)\n",
        "evaluation_prompt = UserRolePrompt(evaluation_template)\n",
        "\n",
        "messages = [\n",
        "    evaluator_system_prompt.create_message(format=False),\n",
        "    evaluation_prompt.create_message(\n",
        "        input=query,\n",
        "        context=\"\\n\".join([context[0] for context in response[\"context\"]]),\n",
        "        response=response[\"response\"]\n",
        "    ),\n",
        "]\n",
        "\n",
        "chat_openai.run(messages, response_format={\"type\" : \"json_object\"})"
      ]
    },
    {
      "cell_type": "markdown",
      "metadata": {
        "id": "TNpauQmJR6yz"
      },
      "source": [
        "# Conclusion\n",
        "\n",
        "In this notebook, we've gone through the steps required to create your own simple RAQA application!\n",
        "\n",
        "Please feel free to extend this as much as you'd like."
      ]
    },
    {
      "cell_type": "code",
      "execution_count": 42,
      "metadata": {
        "colab": {
          "base_uri": "https://localhost:8080/",
          "height": 87,
          "referenced_widgets": [
            "bb904e05ece143c79ecc4f20de482f45",
            "3a4ba348cb004f8ab7b2b1395539c81b",
            "1ce393d9afcf427d9d352259c5d32678",
            "56a8e24025594e5e9ff3b8581c344691",
            "d2ea5009dd16442cb5d8a0ac468e50a8",
            "5f00135fe1044051a50ee5e841cbb8e3",
            "4e6efd99f7d346e485b002fb0fa85cc7",
            "3dfb67c39958461da6071e4c19c3fa41"
          ]
        },
        "id": "xzlxJbFtR6y0",
        "outputId": "d5789d16-c41c-4a3c-ac53-65640a0d3698"
      },
      "outputs": [
        {
          "data": {
            "text/html": [
              " View run <strong style=\"color:#cdcd00\">stellar-hill-2</strong> at: <a href='https://wandb.ai/ravi-ai-bootcamp/Visibility%20Example%20-%20AIE3/runs/vekydnj3' target=\"_blank\">https://wandb.ai/ravi-ai-bootcamp/Visibility%20Example%20-%20AIE3/runs/vekydnj3</a><br/> View project at: <a href='https://wandb.ai/ravi-ai-bootcamp/Visibility%20Example%20-%20AIE3' target=\"_blank\">https://wandb.ai/ravi-ai-bootcamp/Visibility%20Example%20-%20AIE3</a><br/>Synced 6 W&B file(s), 0 media file(s), 0 artifact file(s) and 0 other file(s)"
            ],
            "text/plain": [
              "<IPython.core.display.HTML object>"
            ]
          },
          "metadata": {},
          "output_type": "display_data"
        },
        {
          "data": {
            "text/html": [
              "Find logs at: <code>./wandb/run-20240610_234953-vekydnj3/logs</code>"
            ],
            "text/plain": [
              "<IPython.core.display.HTML object>"
            ]
          },
          "metadata": {},
          "output_type": "display_data"
        }
      ],
      "source": [
        "wandb.finish()"
      ]
    },
    {
      "cell_type": "code",
      "execution_count": null,
      "metadata": {},
      "outputs": [],
      "source": []
    }
  ],
  "metadata": {
    "colab": {
      "provenance": []
    },
    "kernelspec": {
      "display_name": "buildyourownlangchain",
      "language": "python",
      "name": "python3"
    },
    "language_info": {
      "codemirror_mode": {
        "name": "ipython",
        "version": 3
      },
      "file_extension": ".py",
      "mimetype": "text/x-python",
      "name": "python",
      "nbconvert_exporter": "python",
      "pygments_lexer": "ipython3",
      "version": "3.11.9"
    },
    "orig_nbformat": 4,
    "widgets": {
      "application/vnd.jupyter.widget-state+json": {
        "1ce393d9afcf427d9d352259c5d32678": {
          "model_module": "@jupyter-widgets/controls",
          "model_module_version": "1.5.0",
          "model_name": "FloatProgressModel",
          "state": {
            "_dom_classes": [],
            "_model_module": "@jupyter-widgets/controls",
            "_model_module_version": "1.5.0",
            "_model_name": "FloatProgressModel",
            "_view_count": null,
            "_view_module": "@jupyter-widgets/controls",
            "_view_module_version": "1.5.0",
            "_view_name": "ProgressView",
            "bar_style": "",
            "description": "",
            "description_tooltip": null,
            "layout": "IPY_MODEL_4e6efd99f7d346e485b002fb0fa85cc7",
            "max": 1,
            "min": 0,
            "orientation": "horizontal",
            "style": "IPY_MODEL_3dfb67c39958461da6071e4c19c3fa41",
            "value": 1
          }
        },
        "3a4ba348cb004f8ab7b2b1395539c81b": {
          "model_module": "@jupyter-widgets/controls",
          "model_module_version": "1.5.0",
          "model_name": "LabelModel",
          "state": {
            "_dom_classes": [],
            "_model_module": "@jupyter-widgets/controls",
            "_model_module_version": "1.5.0",
            "_model_name": "LabelModel",
            "_view_count": null,
            "_view_module": "@jupyter-widgets/controls",
            "_view_module_version": "1.5.0",
            "_view_name": "LabelView",
            "description": "",
            "description_tooltip": null,
            "layout": "IPY_MODEL_d2ea5009dd16442cb5d8a0ac468e50a8",
            "placeholder": "​",
            "style": "IPY_MODEL_5f00135fe1044051a50ee5e841cbb8e3",
            "value": "0.018 MB of 0.018 MB uploaded\r"
          }
        },
        "3dfb67c39958461da6071e4c19c3fa41": {
          "model_module": "@jupyter-widgets/controls",
          "model_module_version": "1.5.0",
          "model_name": "ProgressStyleModel",
          "state": {
            "_model_module": "@jupyter-widgets/controls",
            "_model_module_version": "1.5.0",
            "_model_name": "ProgressStyleModel",
            "_view_count": null,
            "_view_module": "@jupyter-widgets/base",
            "_view_module_version": "1.2.0",
            "_view_name": "StyleView",
            "bar_color": null,
            "description_width": ""
          }
        },
        "4e6efd99f7d346e485b002fb0fa85cc7": {
          "model_module": "@jupyter-widgets/base",
          "model_module_version": "1.2.0",
          "model_name": "LayoutModel",
          "state": {
            "_model_module": "@jupyter-widgets/base",
            "_model_module_version": "1.2.0",
            "_model_name": "LayoutModel",
            "_view_count": null,
            "_view_module": "@jupyter-widgets/base",
            "_view_module_version": "1.2.0",
            "_view_name": "LayoutView",
            "align_content": null,
            "align_items": null,
            "align_self": null,
            "border": null,
            "bottom": null,
            "display": null,
            "flex": null,
            "flex_flow": null,
            "grid_area": null,
            "grid_auto_columns": null,
            "grid_auto_flow": null,
            "grid_auto_rows": null,
            "grid_column": null,
            "grid_gap": null,
            "grid_row": null,
            "grid_template_areas": null,
            "grid_template_columns": null,
            "grid_template_rows": null,
            "height": null,
            "justify_content": null,
            "justify_items": null,
            "left": null,
            "margin": null,
            "max_height": null,
            "max_width": null,
            "min_height": null,
            "min_width": null,
            "object_fit": null,
            "object_position": null,
            "order": null,
            "overflow": null,
            "overflow_x": null,
            "overflow_y": null,
            "padding": null,
            "right": null,
            "top": null,
            "visibility": null,
            "width": null
          }
        },
        "56a8e24025594e5e9ff3b8581c344691": {
          "model_module": "@jupyter-widgets/base",
          "model_module_version": "1.2.0",
          "model_name": "LayoutModel",
          "state": {
            "_model_module": "@jupyter-widgets/base",
            "_model_module_version": "1.2.0",
            "_model_name": "LayoutModel",
            "_view_count": null,
            "_view_module": "@jupyter-widgets/base",
            "_view_module_version": "1.2.0",
            "_view_name": "LayoutView",
            "align_content": null,
            "align_items": null,
            "align_self": null,
            "border": null,
            "bottom": null,
            "display": null,
            "flex": null,
            "flex_flow": null,
            "grid_area": null,
            "grid_auto_columns": null,
            "grid_auto_flow": null,
            "grid_auto_rows": null,
            "grid_column": null,
            "grid_gap": null,
            "grid_row": null,
            "grid_template_areas": null,
            "grid_template_columns": null,
            "grid_template_rows": null,
            "height": null,
            "justify_content": null,
            "justify_items": null,
            "left": null,
            "margin": null,
            "max_height": null,
            "max_width": null,
            "min_height": null,
            "min_width": null,
            "object_fit": null,
            "object_position": null,
            "order": null,
            "overflow": null,
            "overflow_x": null,
            "overflow_y": null,
            "padding": null,
            "right": null,
            "top": null,
            "visibility": null,
            "width": null
          }
        },
        "5f00135fe1044051a50ee5e841cbb8e3": {
          "model_module": "@jupyter-widgets/controls",
          "model_module_version": "1.5.0",
          "model_name": "DescriptionStyleModel",
          "state": {
            "_model_module": "@jupyter-widgets/controls",
            "_model_module_version": "1.5.0",
            "_model_name": "DescriptionStyleModel",
            "_view_count": null,
            "_view_module": "@jupyter-widgets/base",
            "_view_module_version": "1.2.0",
            "_view_name": "StyleView",
            "description_width": ""
          }
        },
        "bb904e05ece143c79ecc4f20de482f45": {
          "model_module": "@jupyter-widgets/controls",
          "model_module_version": "1.5.0",
          "model_name": "VBoxModel",
          "state": {
            "_dom_classes": [],
            "_model_module": "@jupyter-widgets/controls",
            "_model_module_version": "1.5.0",
            "_model_name": "VBoxModel",
            "_view_count": null,
            "_view_module": "@jupyter-widgets/controls",
            "_view_module_version": "1.5.0",
            "_view_name": "VBoxView",
            "box_style": "",
            "children": [
              "IPY_MODEL_3a4ba348cb004f8ab7b2b1395539c81b",
              "IPY_MODEL_1ce393d9afcf427d9d352259c5d32678"
            ],
            "layout": "IPY_MODEL_56a8e24025594e5e9ff3b8581c344691"
          }
        },
        "d2ea5009dd16442cb5d8a0ac468e50a8": {
          "model_module": "@jupyter-widgets/base",
          "model_module_version": "1.2.0",
          "model_name": "LayoutModel",
          "state": {
            "_model_module": "@jupyter-widgets/base",
            "_model_module_version": "1.2.0",
            "_model_name": "LayoutModel",
            "_view_count": null,
            "_view_module": "@jupyter-widgets/base",
            "_view_module_version": "1.2.0",
            "_view_name": "LayoutView",
            "align_content": null,
            "align_items": null,
            "align_self": null,
            "border": null,
            "bottom": null,
            "display": null,
            "flex": null,
            "flex_flow": null,
            "grid_area": null,
            "grid_auto_columns": null,
            "grid_auto_flow": null,
            "grid_auto_rows": null,
            "grid_column": null,
            "grid_gap": null,
            "grid_row": null,
            "grid_template_areas": null,
            "grid_template_columns": null,
            "grid_template_rows": null,
            "height": null,
            "justify_content": null,
            "justify_items": null,
            "left": null,
            "margin": null,
            "max_height": null,
            "max_width": null,
            "min_height": null,
            "min_width": null,
            "object_fit": null,
            "object_position": null,
            "order": null,
            "overflow": null,
            "overflow_x": null,
            "overflow_y": null,
            "padding": null,
            "right": null,
            "top": null,
            "visibility": null,
            "width": null
          }
        }
      }
    }
  },
  "nbformat": 4,
  "nbformat_minor": 0
}
